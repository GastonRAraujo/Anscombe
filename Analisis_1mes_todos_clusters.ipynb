{
  "nbformat": 4,
  "nbformat_minor": 0,
  "metadata": {
    "colab": {
      "name": "Analisis_1mes_todos_clusters",
      "provenance": [],
      "collapsed_sections": [],
      "include_colab_link": true
    },
    "kernelspec": {
      "name": "python3",
      "display_name": "Python 3"
    },
    "language_info": {
      "name": "python"
    }
  },
  "cells": [
    {
      "cell_type": "markdown",
      "metadata": {
        "id": "view-in-github",
        "colab_type": "text"
      },
      "source": [
        "<a href=\"https://colab.research.google.com/github/GastonRAraujo/Anscombe/blob/main/Analisis_1mes_todos_clusters.ipynb\" target=\"_parent\"><img src=\"https://colab.research.google.com/assets/colab-badge.svg\" alt=\"Open In Colab\"/></a>"
      ]
    },
    {
      "cell_type": "markdown",
      "source": [
        "##Imports"
      ],
      "metadata": {
        "id": "hW8fkz3awTWk"
      }
    },
    {
      "cell_type": "code",
      "source": [
        "import pandas as pd\n",
        "import numpy as np\n",
        "from datetime import date, timedelta"
      ],
      "metadata": {
        "id": "2M3SI1alsfEE"
      },
      "execution_count": null,
      "outputs": []
    },
    {
      "cell_type": "markdown",
      "source": [
        "##Funciones Utiles"
      ],
      "metadata": {
        "id": "QSp_b9AJwTFT"
      }
    },
    {
      "cell_type": "markdown",
      "source": [
        ""
      ],
      "metadata": {
        "id": "_qROjLkawYFT"
      }
    },
    {
      "cell_type": "code",
      "source": [
        "#@title Date Range generator\n",
        "from datetime import date, timedelta\n",
        "\n",
        "def daterange(start_date, end_date):\n",
        "  \"\"\"daterange: devuelve un generador para iterar sobre un intervalo de dias\n",
        "      INPUTS:\n",
        "        * start_data: dia inicial\n",
        "        * end_date:  dia final \n",
        "      OUTPUT:\n",
        "        un coso para iterar\"\"\"\n",
        "  for n in range(int((end_date - start_date).days)):\n",
        "        yield start_date + timedelta(n)\n"
      ],
      "metadata": {
        "id": "axpEHMCmwSNz"
      },
      "execution_count": null,
      "outputs": []
    },
    {
      "cell_type": "code",
      "source": [
        "#@title\n",
        "def save_raw_csv(fecha, data):\n",
        "\n",
        "\n",
        "  s = [None] * len(data['data'])\n",
        "  p = [None] * len(data['data'])\n",
        "  mkc = [None] * len(data['data'])\n",
        "  rank = [None] * len(data['data'])\n",
        "  c = [None] * len(data['data'])\n",
        "\n",
        "  for i in range(len(data['data'])):\n",
        "\n",
        "    symbol = data['data'][i]['symbol']\n",
        "    s[i] = symbol\n",
        "\n",
        "    price = round(data['data'][i]['quote']['USD']['price'], 4)\n",
        "    p[i] = price\n",
        "\n",
        "    market_cap = round(data['data'][i]['quote']['USD']['market_cap'], 2)\n",
        "    mkc[i] = market_cap\n",
        "    \n",
        "    cmk_rank = str(i+1)\n",
        "    rank[i] = cmk_rank\n",
        "\n",
        "    if i < 10:\n",
        "      cluster = '1'\n",
        "    elif i < 50:   \n",
        "      cluster = '2'\n",
        "    else:\n",
        "      cluster = '3'\n",
        "\n",
        "    c[i] = cluster\n",
        "  \n",
        "  to_df = {'name' :s, 'price': p, 'market_cap': mkc, 'cmk_rank' : rank,'cluster': c}\n",
        "\n",
        "  df = pd.DataFrame(to_df, columns =['name', 'price', 'market_cap', 'cmk_rank', 'cluster'])\n",
        "\n",
        "  dir = \"/content/drive/MyDrive/LOTTs/raw_data/csv\"\n",
        "\n",
        "  df.to_csv(f\"{dir}/{fecha}.csv\") "
      ],
      "metadata": {
        "id": "Em6xICxOmGmS"
      },
      "execution_count": null,
      "outputs": []
    },
    {
      "cell_type": "code",
      "source": [
        "import json\n",
        "\n",
        "def save_raw_json(fecha, data):\n",
        "\n",
        "  dir = \"/content/drive/MyDrive/LOTTs/raw_data/json\"\n",
        "\n",
        "  with open(f\"{dir}/{fecha}.json\", 'w') as f:\n",
        "    json.dump(data, f)"
      ],
      "metadata": {
        "id": "aoLEZPG_mLL4"
      },
      "execution_count": null,
      "outputs": []
    },
    {
      "cell_type": "markdown",
      "source": [
        "##Api calls"
      ],
      "metadata": {
        "id": "t_SL7yI4wgAT"
      }
    },
    {
      "cell_type": "code",
      "source": [
        "from requests import Request, Session\n",
        "from requests.exceptions import ConnectionError, Timeout, TooManyRedirects\n",
        "import json\n",
        "\n",
        "# url = 'https://pro-api.coinmarketcap.com/v1/cryptocurrency/listings/latest'\n",
        "\n",
        "\n",
        "def Get_Data(date,cant_tokens_):\n",
        "  \"\"\"Get_Data: realiza llamadas historicas a la API\n",
        "      INPUTS:\n",
        "        * date: dia\n",
        "      OUTPUT:\n",
        "        json con la informacion descargada\"\"\"\n",
        "\n",
        "\n",
        "  url = 'https://pro-api.coinmarketcap.com/v1/cryptocurrency/listings/historical'\n",
        "  parameters = {\n",
        "    'date': date,\n",
        "    'convert':'USD',\n",
        "    'limit': cant_tokens_\n",
        "  }\n",
        "\n",
        "  headers = {\n",
        "    'Accepts': 'application/json',\n",
        "    'X-CMC_PRO_API_KEY': 'c394fa0c-0e05-4acd-8b56-69e373a82cf1',\n",
        "  }\n",
        "\n",
        "  session = Session()\n",
        "  session.headers.update(headers)\n",
        "\n",
        "  try:\n",
        "    response = session.get(url, params=parameters)\n",
        "    data = json.loads(response.text)\n",
        "    # print(data)\n",
        "  except (ConnectionError, Timeout, TooManyRedirects) as e:\n",
        "    print(e)\n",
        "  return data"
      ],
      "metadata": {
        "id": "emhctlpSld_F"
      },
      "execution_count": null,
      "outputs": []
    },
    {
      "cell_type": "code",
      "source": [
        "def Get_Data_for_Token(date,symbol_list):\n",
        "  \"\"\"Get_Data: realiza llamadas historicas a la API\n",
        "      INPUTS:\n",
        "        * date: dia\n",
        "      OUTPUT:\n",
        "        json con la informacion descargada\"\"\"\n",
        "\n",
        "  symbol_list = \",\".join(symbol_list)\n",
        "  url = 'https://pro-api.coinmarketcap.com/v2/cryptocurrency/quotes/historical'\n",
        "  parameters = {\n",
        "    #'time_start': date,\n",
        "    'time_end': date,\n",
        "    # 'convert':'USD',\n",
        "    'symbol': symbol_list,\n",
        "    'interval': 'daily'\n",
        "  }\n",
        "\n",
        "  headers = {\n",
        "    'Accepts': 'application/json',\n",
        "    'X-CMC_PRO_API_KEY': 'c394fa0c-0e05-4acd-8b56-69e373a82cf1',\n",
        "  }\n",
        "\n",
        "  session = Session()\n",
        "  session.headers.update(headers)\n",
        "\n",
        "  try:\n",
        "    response = session.get(url, params=parameters)\n",
        "    data = json.loads(response.text)\n",
        "    # print(data)\n",
        "  except (ConnectionError, Timeout, TooManyRedirects) as e:\n",
        "    print(e)\n",
        "  return data"
      ],
      "metadata": {
        "id": "8Xw_ytnFj8Uf"
      },
      "execution_count": null,
      "outputs": []
    },
    {
      "cell_type": "markdown",
      "source": [
        "# Clases"
      ],
      "metadata": {
        "id": "UBqMeH5cwN4H"
      }
    },
    {
      "cell_type": "code",
      "source": [
        "class Token():\n",
        "\n",
        "\n",
        "\n",
        "\n",
        "  def __init__(self, name, rank, price, market_cap, cluster, amount=0):\n",
        "\n",
        "    self.name = name\n",
        "    self.price = price + 0.0001\n",
        "    self.market_cap = market_cap\n",
        "    self.cmk_rank = rank\n",
        "    self.amount = amount\n",
        "    self.operacion = ''\n",
        "    self.variacion = 0\n",
        "    self.cluster = cluster\n",
        "\n",
        "    self.rank_percent = {\n",
        "        '1' : {'51': 0.0039, '52': 0.0039, '53': 0.0039, '54': 0.0039, '55': 0.0039, '56': 0.0039, '57': 0.0039, '58': 0.0039, '59': 0.0039, '60': 0.0039, '61': 0.0039, '62': 0.0039, '63': 0.0039, '64': 0.0039, '65': 0.0039, '66': 0.0039, '67': 0.0039, '68': 0.0039, '69': 0.0039, '70': 0.0039, '71': 0.0039, '72': 0.0039, '73': 0.0039, '74': 0.0039, '75': 0.0039, '76': 0.0039, '77': 0.0039, '78': 0.0039, '79': 0.0039, '80': 0.0039, '81': 0.0037, '82': 0.0037, '83': 0.0037, '84': 0.0037, '85': 0.0037, '86': 0.0037, '87': 0.0037, '88': 0.0037, '89': 0.0037, '90': 0.0037, '91': 0.0037, '92': 0.0037, '93': 0.0037, '94': 0.0037, '95': 0.0037, '96': 0.0037, '97': 0.0037, '98': 0.0037, '99': 0.0037, '100': 0.0037, '101': 0.0037, '102': 0.0037, '103': 0.0037, '104': 0.0037, '105': 0.0037, '106': 0.0037, '107': 0.0037, '108': 0.0037, '109': 0.0037, '110': 0.0037, '111': 0.0034, '112': 0.0034, '113': 0.0034, '114': 0.0034, '115': 0.0034, '116': 0.0034, '117': 0.0034, '118': 0.0034, '119': 0.0034, '120': 0.0034, '121': 0.0034, '122': 0.0034, '123': 0.0034, '124': 0.0034, '125': 0.0034, '126': 0.0034, '127': 0.0034, '128': 0.0034, '129': 0.0034, '130': 0.0034, '131': 0.0034, '132': 0.0034, '133': 0.0034, '134': 0.0034, '135': 0.0034, '136': 0.0034, '137': 0.0034, '138': 0.0034, '139': 0.0034, '140': 0.0034, '141': 0.0032, '142': 0.0032, '143': 0.0032, '144': 0.0032, '145': 0.0032, '146': 0.0032, '147': 0.0032, '148': 0.0032, '149': 0.0032, '150': 0.0032, '151': 0.0032, '152': 0.0032, '153': 0.0032, '154': 0.0032, '155': 0.0032, '156': 0.0032, '157': 0.0032, '158': 0.0032, '159': 0.0032, '160': 0.0032, '161': 0.0032, '162': 0.0032, '163': 0.0032, '164': 0.0032, '165': 0.0032, '166': 0.0032, '167': 0.0032, '168': 0.0032, '169': 0.0032, '170': 0.0032, '171': 0.003, '172': 0.003, '173': 0.003, '174': 0.003, '175': 0.003, '176': 0.003, '177': 0.003, '178': 0.003, '179': 0.003, '180': 0.003, '181': 0.003, '182': 0.003, '183': 0.003, '184': 0.003, '185': 0.003, '186': 0.003, '187': 0.003, '188': 0.003, '189': 0.003, '190': 0.003, '191': 0.003, '192': 0.003, '193': 0.003, '194': 0.003, '195': 0.003, '196': 0.003, '197': 0.003, '198': 0.003, '199': 0.003, '200': 0.003, '201': 0.0028, '202': 0.0028, '203': 0.0028, '204': 0.0028, '205': 0.0028, '206': 0.0028, '207': 0.0028, '208': 0.0028, '209': 0.0028, '210': 0.0028, '211': 0.0028, '212': 0.0028, '213': 0.0028, '214': 0.0028, '215': 0.0028, '216': 0.0028, '217': 0.0028, '218': 0.0028, '219': 0.0028, '220': 0.0028, '221': 0.0028, '222': 0.0028, '223': 0.0028, '224': 0.0028, '225': 0.0028, '226': 0.0028, '227': 0.0028, '228': 0.0028, '229': 0.0028, '230': 0.0028, '231': 0.0025, '232': 0.0025, '233': 0.0025, '234': 0.0025, '235': 0.0025, '236': 0.0025, '237': 0.0025, '238': 0.0025, '239': 0.0025, '240': 0.0025, '241': 0.0025, '242': 0.0025, '243': 0.0025, '244': 0.0025, '245': 0.0025, '246': 0.0025, '247': 0.0025, '248': 0.0025, '249': 0.0025, '250': 0.0025, '251': 0.0025, '252': 0.0025, '253': 0.0025, '254': 0.0025, '255': 0.0025, '256': 0.0025, '257': 0.0025, '258': 0.0025, '259': 0.0025, '260': 0.0025, '261': 0.0023, '262': 0.0023, '263': 0.0023, '264': 0.0023, '265': 0.0023, '266': 0.0023, '267': 0.0023, '268': 0.0023, '269': 0.0023, '270': 0.0023, '271': 0.0023, '272': 0.0023, '273': 0.0023, '274': 0.0023, '275': 0.0023, '276': 0.0023, '277': 0.0023, '278': 0.0023, '279': 0.0023, '280': 0.0023, '281': 0.0023, '282': 0.0023, '283': 0.0023, '284': 0.0023, '285': 0.0023, '286': 0.0023, '287': 0.0023, '288': 0.0023, '289': 0.0023, '290': 0.0023, '291': 0.0021, '292': 0.0021, '293': 0.0021, '294': 0.0021, '295': 0.0021, '296': 0.0021, '297': 0.0021, '298': 0.0021, '299': 0.0021, '300': 0.0021, '301': 0.0021, '302': 0.0021, '303': 0.0021, '304': 0.0021, '305': 0.0021, '306': 0.0021, '307': 0.0021, '308': 0.0021, '309': 0.0021, '310': 0.0021, '311': 0.0021, '312': 0.0021, '313': 0.0021, '314': 0.0021, '315': 0.0021, '316': 0.0021, '317': 0.0021, '318': 0.0021, '319': 0.0021, '320': 0.0021, '321': 0.0018, '322': 0.0018, '323': 0.0018, '324': 0.0018, '325': 0.0018, '326': 0.0018, '327': 0.0018, '328': 0.0018, '329': 0.0018, '330': 0.0018, '331': 0.0018, '332': 0.0018, '333': 0.0018, '334': 0.0018, '335': 0.0018, '336': 0.0018, '337': 0.0018, '338': 0.0018, '339': 0.0018, '340': 0.0018, '341': 0.0018, '342': 0.0018, '343': 0.0018, '344': 0.0018, '345': 0.0018, '346': 0.0018, '347': 0.0018, '348': 0.0018, '349': 0.0018, '350': 0.0018, '351': 0.0016, '352': 0.0016, '353': 0.0016, '354': 0.0016, '355': 0.0016, '356': 0.0016, '357': 0.0016, '358': 0.0016, '359': 0.0016, '360': 0.0016, '361': 0.0016, '362': 0.0016, '363': 0.0016, '364': 0.0016, '365': 0.0016, '366': 0.0016, '367': 0.0016, '368': 0.0016, '369': 0.0016, '370': 0.0016, '371': 0.0016, '372': 0.0016, '373': 0.0016, '374': 0.0016, '375': 0.0016, '376': 0.0016, '377': 0.0016, '378': 0.0016, '379': 0.0016, '380': 0.0016, '381': 0.0014, '382': 0.0014, '383': 0.0014, '384': 0.0014, '385': 0.0014, '386': 0.0014, '387': 0.0014, '388': 0.0014, '389': 0.0014, '390': 0.0014, '391': 0.0014, '392': 0.0014, '393': 0.0014, '394': 0.0014, '395': 0.0014, '396': 0.0014, '397': 0.0014, '398': 0.0014, '399': 0.0014, '400': 0.0014, '401': 0.0014, '402': 0.0014, '403': 0.0014, '404': 0.0014, '405': 0.0014, '406': 0.0014, '407': 0.0014, '408': 0.0014, '409': 0.0014, '410': 0.0014, '411': 0.0012, '412': 0.0012, '413': 0.0012, '414': 0.0012, '415': 0.0012, '416': 0.0012, '417': 0.0012, '418': 0.0012, '419': 0.0012, '420': 0.0012, '421': 0.0012, '422': 0.0012, '423': 0.0012, '424': 0.0012, '425': 0.0012, '426': 0.0012, '427': 0.0012, '428': 0.0012, '429': 0.0012, '430': 0.0012, '431': 0.0012, '432': 0.0012, '433': 0.0012, '434': 0.0012, '435': 0.0012, '436': 0.0012, '437': 0.0012, '438': 0.0012, '439': 0.0012, '440': 0.0012, '441': 0.0009, '442': 0.0009, '443': 0.0009, '444': 0.0009, '445': 0.0009, '446': 0.0009, '447': 0.0009, '448': 0.0009, '449': 0.0009, '450': 0.0009, '451': 0.0009, '452': 0.0009, '453': 0.0009, '454': 0.0009, '455': 0.0009, '456': 0.0009, '457': 0.0009, '458': 0.0009, '459': 0.0009, '460': 0.0009, '461': 0.0009, '462': 0.0009, '463': 0.0009, '464': 0.0009, '465': 0.0009, '466': 0.0009, '467': 0.0009, '468': 0.0009, '469': 0.0009, '470': 0.0009, '471': 0.0007, '472': 0.0007, '473': 0.0007, '474': 0.0007, '475': 0.0007, '476': 0.0007, '477': 0.0007, '478': 0.0007, '479': 0.0007, '480': 0.0007, '481': 0.0007, '482': 0.0007, '483': 0.0007, '484': 0.0007, '485': 0.0007, '486': 0.0007, '487': 0.0007, '488': 0.0007, '489': 0.0007, '490': 0.0007, '491': 0.0007, '492': 0.0007, '493': 0.0007, '494': 0.0007, '495': 0.0007, '496': 0.0007, '497': 0.0007, '498': 0.0007, '499': 0.0007, '500': 0.0007},\n",
        "        '2' : {},\n",
        "        '3': {'1' : 0.145, '2': 0.135, '3': 0.125, '4':0.115, '5': 0.105, '6': 0.095, '7':0.085, '8':0.075, '9':0.065, '10': 0.055} \n",
        "        }\n",
        "\n",
        "\n",
        "  def token_amount(self, fondos, new_token_amount=False):\n",
        "    fondo_asignado = self.rank_percent[self.cluster][self.cmk_rank] * fondos\n",
        "    amount = round(fondo_asignado / self.price, 4)\n",
        "    if new_token_amount:\n",
        "      return amount\n",
        "    else:\n",
        "      self.amount += amount\n",
        "      self.operacion = 'compra'\n",
        "\n",
        "\n",
        "  def mkt_value(self):\n",
        "    market_value = self.amount * self.price\n",
        "    self.market_value = market_value\n",
        "\n",
        "  def comprar(self, amount):\n",
        "    self.amount += amount\n",
        "    self.variacion = amount\n",
        "    self.operacion = 'compra'\n",
        "\n",
        "  def vender(self, amount):\n",
        "    self.amount -= amount\n",
        "    self.variacion = -amount\n",
        "    self.operacion = 'venta'\n",
        "\n",
        "  \n"
      ],
      "metadata": {
        "id": "C_9lvDkW14Uw"
      },
      "execution_count": null,
      "outputs": []
    },
    {
      "cell_type": "code",
      "source": [
        "class Cluster():\n",
        "\n",
        "  \n",
        "  def __init__(self, name, fondos, tolerancia_balanceo, tokens):\n",
        "\n",
        "    self.name = name\n",
        "    self.fondos = fondos\n",
        "    self.tokens = tokens\n",
        "    self.tolerancia_balanceo = tolerancia_balanceo\n",
        "    self.transacciones = 0\n",
        "  \n",
        "  def mkt_value(self):\n",
        "    \n",
        "    market_value = 0\n",
        "    for t in self.tokens:\n",
        "      market_value += t.price * t.amount\n",
        "\n",
        "    self.market_value = market_value\n",
        "\n",
        "  def balanceo(self, balanceo=True):\n",
        "    if balanceo:\n",
        "      balance = self.fondos / self.market_value\n",
        "      total =  self.fondos + self.market_value\n",
        "      if balance < 0.05:\n",
        "        self.fondos = total*0.05\n",
        "        self.market_value = total * 0.95\n",
        "        self.transacciones += 1\n",
        "      if balance > 0.2:\n",
        "        self.fondos = total*0.2 \n",
        "        self.market_value = total * 0.8\n",
        "        self.transacciones += 1\n",
        "    else:\n",
        "      self.transacciones = len(self.tokens)\n",
        "\n",
        "  def new_token_amount(self):\n",
        "    for t in self.tokens:\n",
        "      new_amount = t.token_amount(self.market_value, new_token_amount=True)\n",
        "      if t.amount !=0:\n",
        "        percent_amount = new_amount / t.amount - 1\n",
        "\n",
        "        if percent_amount > self.tolerancia_balanceo:\n",
        "          # buy_amount = percent_amount * t.amount\n",
        "          buy_amount = new_amount - t.amount\n",
        "          t.comprar(buy_amount)\n",
        "          self.transacciones += 1\n",
        "        \n",
        "        elif percent_amount < 0:\n",
        "          sell_amount = -percent_amount * t.amount\n",
        "          t.vender(sell_amount)\n",
        "          self.transacciones += 1\n",
        "      else:\n",
        "          buy_amount = new_amount\n",
        "          t.comprar(buy_amount)\n",
        "          self.transacciones += 1\n",
        "\n",
        "      \n",
        "\n"
      ],
      "metadata": {
        "id": "-tCmz4HmkV1U"
      },
      "execution_count": null,
      "outputs": []
    },
    {
      "cell_type": "markdown",
      "source": [
        "# Genero data para cada cluster a partir de json"
      ],
      "metadata": {
        "id": "r8DEUErLwdet"
      }
    },
    {
      "cell_type": "code",
      "source": [
        "#@title\n",
        "def process_json(data):\n",
        "\n",
        "  cluster1_data = []\n",
        "  cluster2_data = []\n",
        "  cluster3_data = []\n",
        "  # numero_de_tokens_guardados = 0\n",
        "  for i in range(len(data['data'])):\n",
        "\n",
        "    # if tag == \"satble\":\n",
        "    #   continue\n",
        "    # elif numero_de_tokens_guardados == 500:\n",
        "    #   break\n",
        "    symbol = data['data'][i]['symbol']\n",
        "    price = round(data['data'][i]['quote']['USD']['price'], 6)\n",
        "    market_cap = round(data['data'][i]['quote']['USD']['market_cap'], 2)\n",
        "    cmk_rank = str(i+1)\n",
        "\n",
        "\n",
        "    #Separo en Clusters\n",
        "    if i < 10:\n",
        "      \n",
        "      cluster3_data.append((symbol, cmk_rank, price, market_cap))\n",
        "\n",
        "\n",
        "    elif i < 50:   \n",
        "\n",
        "      cluster2_data.append((symbol, cmk_rank, price, market_cap))\n",
        "\n",
        "    else:\n",
        "\n",
        "      cluster1_data.append((symbol, cmk_rank, price, market_cap))\n",
        "\n",
        "    # numero_de_tokens_guardados += 1\n",
        "\n",
        "\n",
        "  return cluster1_data, cluster2_data, cluster3_data"
      ],
      "metadata": {
        "id": "G8g3fgPGQf4Y"
      },
      "execution_count": null,
      "outputs": []
    },
    {
      "cell_type": "code",
      "source": [
        "def calculo_mkt_total(mkc_cap_data):\n",
        "\n",
        "  mkc_total = 0\n",
        "  for mkc in mkc_cap_data:\n",
        "    mkc_total += mkc[3]\n",
        "  return mkc_total"
      ],
      "metadata": {
        "id": "MoO9-Gd4MKQD"
      },
      "execution_count": null,
      "outputs": []
    },
    {
      "cell_type": "code",
      "source": [
        "def update_token_amount(tokens_amount, data, fecha):\n",
        "\n",
        "\n",
        "  current_tokens = []\n",
        "  tokens_to_sell = []\n",
        "  \n",
        "  if fecha.split('-')[2] == '05':\n",
        "    for i in range(len(data['data'])):\n",
        "      token_name = data['data'][i]['symbol']\n",
        "      current_tokens.append(token_name)\n",
        "      tokens_to_sell = list(set(tokens_amount.keys())-set(current_tokens))\n",
        "\n",
        "  else:\n",
        "    # for i in range(len(data['data']),51):\n",
        "    for i in range(50):\n",
        "      token_name = data['data'][i]['symbol']\n",
        "      current_tokens.append(token_name)\n",
        "    print(len(current_tokens))\n",
        "    # cluster1_tokens = [data['data'][i]['symbol'] for i in range(51,len(data['data']))]\n",
        "    # actual_tokens_cluster2_3 = list(set(tokens_amount.keys())-set(cluster1_tokens))\n",
        "    # tokens_to_sell = list(set(current_tokens)-set(actual_tokens_cluster2_3))\n",
        "\n",
        "  tokens_to_buy = list(set(current_tokens) - set(tokens_amount.keys()))\n",
        "  #esta lista inlcuye al cluster 1 ---->  esto esta mal\n",
        "  #tokens_to_sell = list(set(tokens_amount.keys())-set(current_tokens))\n",
        "\n",
        "  ceros = [0] * len(tokens_to_buy)\n",
        "\n",
        "  helper_dict = {}\n",
        "\n",
        "  for k,v in zip(tokens_to_buy, ceros):\n",
        "    helper_dict[k] = v\n",
        "\n",
        "  return helper_dict, tokens_to_sell"
      ],
      "metadata": {
        "id": "mcyPnaOIEZIh"
      },
      "execution_count": null,
      "outputs": []
    },
    {
      "cell_type": "code",
      "source": [
        ""
      ],
      "metadata": {
        "id": "Q82L89NDIW1l"
      },
      "execution_count": null,
      "outputs": []
    },
    {
      "cell_type": "markdown",
      "source": [
        "# Fondos inciales: inversion inicial, fondos para balancear"
      ],
      "metadata": {
        "id": "exXiynhYwq5a"
      }
    },
    {
      "cell_type": "code",
      "source": [
        "def process_fondos_init(fondo):\n",
        "\n",
        "  cluster1_fondo = fondo * 0.25\n",
        "  cluster1_inv, cluster1_bal = cluster1_fondo * 0.9, cluster1_fondo * 0.1\n",
        "  \n",
        "  cluster2_fondo = fondo * 0.35\n",
        "  cluster2_inv, cluster2_bal = cluster2_fondo * 0.9, cluster2_fondo * 0.1\n",
        "  \n",
        "  cluster3_fondo = fondo * 0.30\n",
        "  cluster3_inv, cluster3_bal = cluster3_fondo * 0.9, cluster3_fondo * 0.1\n",
        "\n",
        "  return (cluster1_inv, cluster1_bal), (cluster2_inv, cluster2_bal), (cluster3_inv, cluster3_bal)\n",
        "\n",
        "\n"
      ],
      "metadata": {
        "id": "zTQcUwBywCcr"
      },
      "execution_count": null,
      "outputs": []
    },
    {
      "cell_type": "code",
      "source": [
        "# En estos dos diccionarios voy guardando la info de cada iteracion\n",
        "cant_tokens = '500'\n",
        "df_for_testing = {}\n",
        "\n",
        "historical_clusters = {}\n",
        "historical_tokens = {}\n",
        "tokens_amount = {}\n",
        "#tokens_cluster1 = []\n",
        "#fondo_global = {}\n",
        "\n",
        "# dict para guardar datos de cada cluster\n",
        "\n",
        "clusters = { '1' : {}, '2' : {}, '3': {} }"
      ],
      "metadata": {
        "id": "XDES2VrIfvv6"
      },
      "execution_count": null,
      "outputs": []
    },
    {
      "cell_type": "code",
      "source": [
        "start_date = date(2022, 1, 20)\n",
        "end_date = date(2022, 1, 22)\n",
        "\n",
        "\n",
        "# constantes\n",
        "\n",
        "rank_percent_1 = {'51': 0.0039, '52': 0.0039, '53': 0.0039, '54': 0.0039, '55': 0.0039, '56': 0.0039, '57': 0.0039, '58': 0.0039, '59': 0.0039, '60': 0.0039, '61': 0.0039, '62': 0.0039, '63': 0.0039, '64': 0.0039, '65': 0.0039, '66': 0.0039, '67': 0.0039, '68': 0.0039, '69': 0.0039, '70': 0.0039, '71': 0.0039, '72': 0.0039, '73': 0.0039, '74': 0.0039, '75': 0.0039, '76': 0.0039, '77': 0.0039, '78': 0.0039, '79': 0.0039, '80': 0.0039, '81': 0.0037, '82': 0.0037, '83': 0.0037, '84': 0.0037, '85': 0.0037, '86': 0.0037, '87': 0.0037, '88': 0.0037, '89': 0.0037, '90': 0.0037, '91': 0.0037, '92': 0.0037, '93': 0.0037, '94': 0.0037, '95': 0.0037, '96': 0.0037, '97': 0.0037, '98': 0.0037, '99': 0.0037, '100': 0.0037, '101': 0.0037, '102': 0.0037, '103': 0.0037, '104': 0.0037, '105': 0.0037, '106': 0.0037, '107': 0.0037, '108': 0.0037, '109': 0.0037, '110': 0.0037, '111': 0.0034, '112': 0.0034, '113': 0.0034, '114': 0.0034, '115': 0.0034, '116': 0.0034, '117': 0.0034, '118': 0.0034, '119': 0.0034, '120': 0.0034, '121': 0.0034, '122': 0.0034, '123': 0.0034, '124': 0.0034, '125': 0.0034, '126': 0.0034, '127': 0.0034, '128': 0.0034, '129': 0.0034, '130': 0.0034, '131': 0.0034, '132': 0.0034, '133': 0.0034, '134': 0.0034, '135': 0.0034, '136': 0.0034, '137': 0.0034, '138': 0.0034, '139': 0.0034, '140': 0.0034, '141': 0.0032, '142': 0.0032, '143': 0.0032, '144': 0.0032, '145': 0.0032, '146': 0.0032, '147': 0.0032, '148': 0.0032, '149': 0.0032, '150': 0.0032, '151': 0.0032, '152': 0.0032, '153': 0.0032, '154': 0.0032, '155': 0.0032, '156': 0.0032, '157': 0.0032, '158': 0.0032, '159': 0.0032, '160': 0.0032, '161': 0.0032, '162': 0.0032, '163': 0.0032, '164': 0.0032, '165': 0.0032, '166': 0.0032, '167': 0.0032, '168': 0.0032, '169': 0.0032, '170': 0.0032, '171': 0.003, '172': 0.003, '173': 0.003, '174': 0.003, '175': 0.003, '176': 0.003, '177': 0.003, '178': 0.003, '179': 0.003, '180': 0.003, '181': 0.003, '182': 0.003, '183': 0.003, '184': 0.003, '185': 0.003, '186': 0.003, '187': 0.003, '188': 0.003, '189': 0.003, '190': 0.003, '191': 0.003, '192': 0.003, '193': 0.003, '194': 0.003, '195': 0.003, '196': 0.003, '197': 0.003, '198': 0.003, '199': 0.003, '200': 0.003, '201': 0.0028, '202': 0.0028, '203': 0.0028, '204': 0.0028, '205': 0.0028, '206': 0.0028, '207': 0.0028, '208': 0.0028, '209': 0.0028, '210': 0.0028, '211': 0.0028, '212': 0.0028, '213': 0.0028, '214': 0.0028, '215': 0.0028, '216': 0.0028, '217': 0.0028, '218': 0.0028, '219': 0.0028, '220': 0.0028, '221': 0.0028, '222': 0.0028, '223': 0.0028, '224': 0.0028, '225': 0.0028, '226': 0.0028, '227': 0.0028, '228': 0.0028, '229': 0.0028, '230': 0.0028, '231': 0.0025, '232': 0.0025, '233': 0.0025, '234': 0.0025, '235': 0.0025, '236': 0.0025, '237': 0.0025, '238': 0.0025, '239': 0.0025, '240': 0.0025, '241': 0.0025, '242': 0.0025, '243': 0.0025, '244': 0.0025, '245': 0.0025, '246': 0.0025, '247': 0.0025, '248': 0.0025, '249': 0.0025, '250': 0.0025, '251': 0.0025, '252': 0.0025, '253': 0.0025, '254': 0.0025, '255': 0.0025, '256': 0.0025, '257': 0.0025, '258': 0.0025, '259': 0.0025, '260': 0.0025, '261': 0.0023, '262': 0.0023, '263': 0.0023, '264': 0.0023, '265': 0.0023, '266': 0.0023, '267': 0.0023, '268': 0.0023, '269': 0.0023, '270': 0.0023, '271': 0.0023, '272': 0.0023, '273': 0.0023, '274': 0.0023, '275': 0.0023, '276': 0.0023, '277': 0.0023, '278': 0.0023, '279': 0.0023, '280': 0.0023, '281': 0.0023, '282': 0.0023, '283': 0.0023, '284': 0.0023, '285': 0.0023, '286': 0.0023, '287': 0.0023, '288': 0.0023, '289': 0.0023, '290': 0.0023, '291': 0.0021, '292': 0.0021, '293': 0.0021, '294': 0.0021, '295': 0.0021, '296': 0.0021, '297': 0.0021, '298': 0.0021, '299': 0.0021, '300': 0.0021, '301': 0.0021, '302': 0.0021, '303': 0.0021, '304': 0.0021, '305': 0.0021, '306': 0.0021, '307': 0.0021, '308': 0.0021, '309': 0.0021, '310': 0.0021, '311': 0.0021, '312': 0.0021, '313': 0.0021, '314': 0.0021, '315': 0.0021, '316': 0.0021, '317': 0.0021, '318': 0.0021, '319': 0.0021, '320': 0.0021, '321': 0.0018, '322': 0.0018, '323': 0.0018, '324': 0.0018, '325': 0.0018, '326': 0.0018, '327': 0.0018, '328': 0.0018, '329': 0.0018, '330': 0.0018, '331': 0.0018, '332': 0.0018, '333': 0.0018, '334': 0.0018, '335': 0.0018, '336': 0.0018, '337': 0.0018, '338': 0.0018, '339': 0.0018, '340': 0.0018, '341': 0.0018, '342': 0.0018, '343': 0.0018, '344': 0.0018, '345': 0.0018, '346': 0.0018, '347': 0.0018, '348': 0.0018, '349': 0.0018, '350': 0.0018, '351': 0.0016, '352': 0.0016, '353': 0.0016, '354': 0.0016, '355': 0.0016, '356': 0.0016, '357': 0.0016, '358': 0.0016, '359': 0.0016, '360': 0.0016, '361': 0.0016, '362': 0.0016, '363': 0.0016, '364': 0.0016, '365': 0.0016, '366': 0.0016, '367': 0.0016, '368': 0.0016, '369': 0.0016, '370': 0.0016, '371': 0.0016, '372': 0.0016, '373': 0.0016, '374': 0.0016, '375': 0.0016, '376': 0.0016, '377': 0.0016, '378': 0.0016, '379': 0.0016, '380': 0.0016, '381': 0.0014, '382': 0.0014, '383': 0.0014, '384': 0.0014, '385': 0.0014, '386': 0.0014, '387': 0.0014, '388': 0.0014, '389': 0.0014, '390': 0.0014, '391': 0.0014, '392': 0.0014, '393': 0.0014, '394': 0.0014, '395': 0.0014, '396': 0.0014, '397': 0.0014, '398': 0.0014, '399': 0.0014, '400': 0.0014, '401': 0.0014, '402': 0.0014, '403': 0.0014, '404': 0.0014, '405': 0.0014, '406': 0.0014, '407': 0.0014, '408': 0.0014, '409': 0.0014, '410': 0.0014, '411': 0.0012, '412': 0.0012, '413': 0.0012, '414': 0.0012, '415': 0.0012, '416': 0.0012, '417': 0.0012, '418': 0.0012, '419': 0.0012, '420': 0.0012, '421': 0.0012, '422': 0.0012, '423': 0.0012, '424': 0.0012, '425': 0.0012, '426': 0.0012, '427': 0.0012, '428': 0.0012, '429': 0.0012, '430': 0.0012, '431': 0.0012, '432': 0.0012, '433': 0.0012, '434': 0.0012, '435': 0.0012, '436': 0.0012, '437': 0.0012, '438': 0.0012, '439': 0.0012, '440': 0.0012, '441': 0.0009, '442': 0.0009, '443': 0.0009, '444': 0.0009, '445': 0.0009, '446': 0.0009, '447': 0.0009, '448': 0.0009, '449': 0.0009, '450': 0.0009, '451': 0.0009, '452': 0.0009, '453': 0.0009, '454': 0.0009, '455': 0.0009, '456': 0.0009, '457': 0.0009, '458': 0.0009, '459': 0.0009, '460': 0.0009, '461': 0.0009, '462': 0.0009, '463': 0.0009, '464': 0.0009, '465': 0.0009, '466': 0.0009, '467': 0.0009, '468': 0.0009, '469': 0.0009, '470': 0.0009, '471': 0.0007, '472': 0.0007, '473': 0.0007, '474': 0.0007, '475': 0.0007, '476': 0.0007, '477': 0.0007, '478': 0.0007, '479': 0.0007, '480': 0.0007, '481': 0.0007, '482': 0.0007, '483': 0.0007, '484': 0.0007, '485': 0.0007, '486': 0.0007, '487': 0.0007, '488': 0.0007, '489': 0.0007, '490': 0.0007, '491': 0.0007, '492': 0.0007, '493': 0.0007, '494': 0.0007, '495': 0.0007, '496': 0.0007, '497': 0.0007, '498': 0.0007, '499': 0.0007, '500': 0.0007}\n",
        "rank_percent_2 = {'1' : 0.145, '2': 0.135, '3': 0.125, '4':0.115, '5': 0.105, '6': 0.095, '7':0.085, '8':0.075, '9':0.065, '10': 0.055}\n",
        "\n",
        "clusters['1']['rank_percent'] = rank_percent_1\n",
        "clusters['2']['rank_percent'] = rank_percent_2\n",
        "\n",
        "# parametros\n",
        "tolerancia_balanceo = [0.1, 0.02, 0.02]\n",
        "clusters['1']['tolerancia_balanceo'] = tolerancia_balanceo[0]\n",
        "clusters['2']['tolerancia_balanceo'] = tolerancia_balanceo[1]\n",
        "clusters['3']['tolerancia_balanceo'] = tolerancia_balanceo[2]\n",
        "\n",
        "fondos = 3000000\n",
        "\n",
        "new_token = {}\n",
        "\n",
        "fechas = []\n",
        "\n",
        "\n",
        "for single_date in daterange(start_date, end_date):\n",
        "  \n",
        "  if single_date == start_date:\n",
        "      print(single_date.strftime(\"%Y-%m-%d\"))\n",
        "      fecha = single_date.isoformat()\n",
        "      \n",
        "\n",
        "      historical_clusters[fecha] = {}\n",
        "      historical_tokens[fecha] = {}\n",
        "\n",
        "      data = Get_Data(fecha,cant_tokens)\n",
        "      try:\n",
        "        len(data['data']) == int(cant_tokens)\n",
        "      except:\n",
        "        print(f'Fecha {fecha}: DATOS FALTANTES')\n",
        "        fechas.append(fecha)\n",
        "        continue\n",
        "      #save_raw_csv(fecha, data)\n",
        "      #save_raw_json(fecha, data)\n",
        "\n",
        "      fondos = 3000000\n",
        "\n",
        "      # obtengo data del json de c/ cluster\n",
        "      cluster1_data, cluster2_data, cluster3_data = process_json(data)\n",
        "      cluster1_fondos, cluster2_fondos, cluster3_fondos = process_fondos_init(fondos)\n",
        "\n",
        "      clusters['1']['data'] = cluster1_data\n",
        "      clusters['2']['data'] = cluster2_data\n",
        "      clusters['3']['data'] = cluster3_data\n",
        "\n",
        "      clusters['1']['fondos'] = cluster1_fondos\n",
        "      clusters['2']['fondos'] = cluster2_fondos\n",
        "      clusters['3']['fondos'] = cluster3_fondos\n",
        "\n",
        "      # tokens_amount[fecha] = {}\n",
        "      \n",
        "      for c in clusters.keys():\n",
        "\n",
        "        if c == '1':\n",
        "          ultima_fecha_cluster1 = fecha\n",
        "\n",
        "        if c == '2':\n",
        "          market_cap_total = calculo_mkt_total(clusters[c]['data'])\n",
        "      \n",
        "        \n",
        "        tokens = [ Token(t[0], t[1], t[2], t[3], c) for t in clusters[c]['data'] ]\n",
        "\n",
        "\n",
        "        for t in tokens:\n",
        "          # construyo el dict de porcentajes \"on the fly\" segun market cap de cada token\n",
        "          if t.cluster == '2':      \n",
        "            t.rank_percent[c][t.cmk_rank] = round(t.market_cap / market_cap_total, 2)\n",
        "          \n",
        "          #if t.cluster == '1':\n",
        "          #  tokens_cluster1.append(t.name)\n",
        "          # hago la compra incial\n",
        "          t.token_amount(clusters[c]['fondos'][0])\n",
        "          # calculo market_value (precio x amount)\n",
        "          t.mkt_value()\n",
        "          \n",
        "          # guardo los cambios en historical_tokens\n",
        "          historical_tokens[fecha][t.name] = {}\n",
        "          historical_tokens[fecha][t.name]['name'] = t.name\n",
        "          historical_tokens[fecha][t.name]['rank'] = t.cmk_rank\n",
        "          historical_tokens[fecha][t.name]['price'] = t.price\n",
        "          historical_tokens[fecha][t.name]['market_cap'] = t.market_cap\n",
        "          historical_tokens[fecha][t.name]['amount'] = t.amount\n",
        "          historical_tokens[fecha][t.name]['operacion'] = t.operacion\n",
        "          historical_tokens[fecha][t.name]['variacion'] = t.variacion\n",
        "          historical_tokens[fecha][t.name]['market_value'] = t.market_value\n",
        "          historical_tokens[fecha][t.name]['cluster'] = t.cluster\n",
        "          historical_tokens[fecha][t.name]['roi'] = 0\n",
        "        \n",
        "\n",
        "          \n",
        "          # tokens_amount[fecha][t.name] = t.amount\n",
        "          tokens_amount[t.name] = t.amount\n",
        "          new_token[t.name] = fecha\n",
        "\n",
        "        # instancio el cluster (numero de Cluster, fondos, lista de tokens instanciados)\n",
        "        cluster = Cluster(c, clusters[c]['fondos'][1], clusters[c]['tolerancia_balanceo'],tokens)\n",
        "\n",
        "        cluster.mkt_value()\n",
        "\n",
        "        # no hago balanceo\n",
        "        cluster.balanceo(False)\n",
        "\n",
        "        # guardo los cambios en historical_cluster\n",
        "        historical_clusters[fecha][c] = {}\n",
        "        historical_clusters[fecha][c]['market_value'] = cluster.market_value\n",
        "        historical_clusters[fecha][c]['fondos_bal'] = cluster.fondos\n",
        "        historical_clusters[fecha][c]['transacciones'] = cluster.transacciones\n",
        "        historical_clusters[fecha][c]['roi'] = 0\n",
        "      # print(tokens_amount)\n",
        "\n",
        "  else:\n",
        "    \n",
        "    dia_anterior = fecha\n",
        "    fecha = single_date.isoformat()\n",
        "    print(fecha)\n",
        "    historical_clusters[fecha] = {}\n",
        "    historical_tokens[fecha] = {}\n",
        "\n",
        "    data = Get_Data(fecha,cant_tokens)\n",
        "    try:\n",
        "      len(data['data']) == int(cant_tokens)\n",
        "    except:\n",
        "      print(f'Fecha {fecha}: DATOS FALTANTES')\n",
        "      fechas.append(fecha)\n",
        "      continue\n",
        "    #save_raw_csv(fecha, data)\n",
        "    #save_raw_json(fecha, data)\n",
        "\n",
        "    clusters = { '1' : {}, '2' : {}, '3': {} }\n",
        "\n",
        "    cluster1_data, cluster2_data, cluster3_data = process_json(data)\n",
        "    #Completo los clusters con la data y la tol al balanceo\n",
        "    clusters['1']['data'] = cluster1_data\n",
        "    clusters['2']['data'] = cluster2_data\n",
        "    clusters['3']['data'] = cluster3_data\n",
        "\n",
        "    clusters['1']['tolerancia_balanceo'] = tolerancia_balanceo[0]\n",
        "    clusters['2']['tolerancia_balanceo'] = tolerancia_balanceo[1]\n",
        "    clusters['3']['tolerancia_balanceo'] = tolerancia_balanceo[2]\n",
        "\n",
        "\n",
        "    #dia_anterior = single_date - timedelta(1)\n",
        "    #dia_anterior = dia_anterior.isoformat()\n",
        "                                            \n",
        "    # updatea la token: amount\n",
        "    \n",
        "    # tokens2update = update_token_amount(tokens_amount[dia_anterior], data)\n",
        "    tokens2update, tokens_to_sell = update_token_amount(tokens_amount, data, fecha)\n",
        "    #Filtro el clsuter 1\n",
        "    #tokens_to_sell = [token_ for token_ in tokens_to_sell if token_ not in tokens_cluster1]\n",
        "    new_token.update({k:fecha for k in tokens2update.keys()})\n",
        "    \n",
        "    #Actualizo el token amount con los tokens nuevos en 0\n",
        "    # tokens_amount_save = tokens_amount[dia_anterior]\n",
        "    tokens_amount.update(tokens2update)\n",
        "    # tokens_amount = {key:value for key, value in tokens_amount.items() if key not in tokens_to_sell}\n",
        "    # tokens_amount[dia_anterior] = tokens_amount_save\n",
        "      # ---> actualiza token_amount, si algun token no esta en token amount, lo agrega como 0\n",
        "      # ---> potencialmente se podria detectar que tokens salieron, para vender, pero no tenemos no tenemos precio, ya que bucamos hasta el rank 500                   \n",
        "    tokens_to_sell = ['ETH']\n",
        "    \n",
        "    if len(tokens_to_sell) != 0:\n",
        "      data_forsell = Get_Data_for_Token(fecha,tokens_to_sell)\n",
        "      for token in tokens_to_sell:\n",
        "         precio_venta = data_forsell['data'][token][0]['quotes'][0]['quote']['USD']['price']\n",
        "         token_amount_to_sell = tokens_amount[token]\n",
        "         historical_clusters[ultima_fecha_cluster1]['1']['fondos_bal'] += precio_venta * token_amount_to_sell\n",
        "    #Inicializo un nuevo token amount  \n",
        "    # tokens_amount[fecha] = {}\n",
        "    \n",
        "    for c in clusters.keys():\n",
        "\n",
        "      if (c == '1' and single_date.day !=5):\n",
        "        continue\n",
        "\n",
        "      if c == '2':\n",
        "        market_cap_total = calculo_mkt_total(clusters[c]['data'])\n",
        "      #if c == '1':\n",
        "        #tokens_cluster1 = []\n",
        "\n",
        "      #instancio los tokens\n",
        "      # tokens = [ Token(t[0], t[1], t[2], t[3], c, amount=tokens_amount[dia_anterior][t[0]]) for t in clusters[c]['data'] ]\n",
        "      tokens = [ Token(t[0], t[1], t[2], t[3], c, amount=tokens_amount[t[0]]) for t in clusters[c]['data'] ]\n",
        "\n",
        "      for t in tokens:\n",
        "        # construyo el dict de porcentajes \"on the fly\" segun market cap de cada token\n",
        "        if t.cluster == '2':      \n",
        "          t.rank_percent[c][t.cmk_rank] = round(t.market_cap/market_cap_total, 2)\n",
        "        #if t.cluster == '1':\n",
        "            #tokens_cluster1.append(t.name)\n",
        "        t.mkt_value()\n",
        "\n",
        "\n",
        "      #instancio cluster\n",
        "      # print(historical_clusters[fecha][c]['fondos_bal'])\n",
        "      # print(clusters[c]['tolerancia_balanceo'])\n",
        "      if c == '1':\n",
        "        cluster = Cluster(c, historical_clusters[ultima_fecha_cluster1][c]['fondos_bal'], clusters[c]['tolerancia_balanceo'],tokens)\n",
        "        ultima_fecha_cluster1 = fecha\n",
        "      else:\n",
        "        cluster = Cluster(c, historical_clusters[dia_anterior][c]['fondos_bal'], clusters[c]['tolerancia_balanceo'],tokens)\n",
        "      # calculo market_value del cluster\n",
        "      cluster.mkt_value()\n",
        "      # chequea si el fondo_bal esta entre 5-20% del total de market_value, de no ser asi transfiero fondos/vendo tokens\n",
        "      cluster.balanceo(True)\n",
        "      cluster.new_token_amount()\n",
        "      #guardo los cambios en historical_cluster\n",
        "      historical_clusters[fecha][c] = {}\n",
        "      historical_clusters[fecha][c]['market_value'] = cluster.market_value\n",
        "      historical_clusters[fecha][c]['fondos_bal'] = cluster.fondos\n",
        "      historical_clusters[fecha][c]['transacciones'] = cluster.transacciones\n",
        "      historical_clusters[fecha][c]['roi'] = cluster.market_value / historical_clusters[start_date.isoformat()][c]['market_value'] - 1\n",
        "\n",
        "      \n",
        "      for t in tokens:\n",
        "        historical_tokens[fecha][t.name] = {}\n",
        "        historical_tokens[fecha][t.name]['name'] = t.name\n",
        "        historical_tokens[fecha][t.name]['rank'] = t.cmk_rank\n",
        "        historical_tokens[fecha][t.name]['price'] = t.price\n",
        "        historical_tokens[fecha][t.name]['market_cap'] = t.market_cap\n",
        "        historical_tokens[fecha][t.name]['amount'] = t.amount\n",
        "        historical_tokens[fecha][t.name]['operacion'] = t.operacion\n",
        "        historical_tokens[fecha][t.name]['variacion'] = t.variacion\n",
        "        historical_tokens[fecha][t.name]['market_value'] = t.market_value\n",
        "        historical_tokens[fecha][t.name]['cluster'] = t.cluster\n",
        "        if new_token[t.name] == fecha:\n",
        "          historical_tokens[fecha][t.name]['roi'] = 0\n",
        "        else:  \n",
        "          historical_tokens[fecha][t.name]['roi'] = t.market_value / historical_tokens[new_token[t.name]][t.name]['market_value'] - 1\n",
        "\n",
        "        #Update tokens_amount\n",
        "        tokens_amount[t.name] = t.amount\n",
        "\n",
        "fondos_final = 0\n",
        "for c in clusters.keys():\n",
        "  if c == '1':\n",
        "    fondos_final += historical_clusters[ultima_fecha_cluster1][c]['fondos_bal']\n",
        "    fondos_final += historical_clusters[ultima_fecha_cluster1][c]['market_value']\n",
        "  else:\n",
        "    fondos_final += historical_clusters[fecha][c]['fondos_bal']\n",
        "    fondos_final += historical_clusters[fecha][c]['market_value']\n",
        "\n",
        "print(f'fondos_final: {fondos_final:,.0f}')\n",
        "print(f'ROI_final: {100*(fondos_final/(0.9*3000000) - 1):.2f}%')"
      ],
      "metadata": {
        "id": "eFddF4s2aNf6",
        "colab": {
          "base_uri": "https://localhost:8080/"
        },
        "outputId": "90f3bb6a-0722-4645-b338-cc089caaf6dd"
      },
      "execution_count": null,
      "outputs": [
        {
          "output_type": "stream",
          "name": "stdout",
          "text": [
            "2022-01-20\n",
            "2022-01-21\n",
            "50\n",
            "{'status': {'timestamp': '2022-03-27T02:03:21.825Z', 'error_code': 0, 'error_message': None, 'elapsed': 55, 'credit_count': 0, 'notice': None}, 'data': {'ETH': [{'quotes': [{'timestamp': '2022-01-12T00:04:00.000Z', 'quote': {'USD': {'price': 3245.8015679758346, 'volume_24h': 15172255684.35909, 'market_cap': 386642836250.59985, 'total_supply': 119120909.9365, 'circulating_supply': 119120909.9365, 'timestamp': '2022-01-12T00:04:00.000Z'}}}, {'timestamp': '2022-01-13T00:04:00.000Z', 'quote': {'USD': {'price': 3377.017305099588, 'volume_24h': 16639688813.516338, 'market_cap': 402319339259.4368, 'total_supply': 119134521.0615, 'circulating_supply': 119134521.0615, 'timestamp': '2022-01-13T00:04:00.000Z'}}}, {'timestamp': '2022-01-14T00:04:00.000Z', 'quote': {'USD': {'price': 3241.6337069941715, 'volume_24h': 15243125150.833817, 'market_cap': 386234367618.3244, 'total_supply': 119148060.0615, 'circulating_supply': 119148060.0615, 'timestamp': '2022-01-14T00:04:00.000Z'}}}, {'timestamp': '2022-01-15T00:04:00.000Z', 'quote': {'USD': {'price': 3318.80198011283, 'volume_24h': 13512800737.392645, 'market_cap': 395473899849.9562, 'total_supply': 119161643.9365, 'circulating_supply': 119161643.9365, 'timestamp': '2022-01-15T00:04:00.000Z'}}}, {'timestamp': '2022-01-16T00:04:00.000Z', 'quote': {'USD': {'price': 3328.436668311145, 'volume_24h': 9550993354.58722, 'market_cap': 396667055911.4632, 'total_supply': 119175185.0615, 'circulating_supply': 119175185.0615, 'timestamp': '2022-01-16T00:04:00.000Z'}}}, {'timestamp': '2022-01-17T00:04:00.000Z', 'quote': {'USD': {'price': 3353.5287857931103, 'volume_24h': 9474235223.444016, 'market_cap': 399702839299.3204, 'total_supply': 119188730.6865, 'circulating_supply': 119188730.6865, 'timestamp': '2022-01-17T00:04:00.000Z'}}}, {'timestamp': '2022-01-18T00:04:00.000Z', 'quote': {'USD': {'price': 3213.90195323471, 'volume_24h': 12330430790.101107, 'market_cap': 383104611458.22705, 'total_supply': 119202333.1865, 'circulating_supply': 119202333.1865, 'timestamp': '2022-01-18T00:04:00.000Z'}}}, {'timestamp': '2022-01-19T00:04:00.000Z', 'quote': {'USD': {'price': 3163.0548676519634, 'volume_24h': 12950241042.617985, 'market_cap': 377086608935.9646, 'total_supply': 119215955.6865, 'circulating_supply': 119215955.6865, 'timestamp': '2022-01-19T00:04:00.000Z'}}}, {'timestamp': '2022-01-20T00:04:00.000Z', 'quote': {'USD': {'price': 3095.062682878308, 'volume_24h': 13144909844.165403, 'market_cap': 369022627001.8111, 'total_supply': 119229451.8115, 'circulating_supply': 119229451.8115, 'timestamp': '2022-01-20T00:04:00.000Z'}}}], 'id': 1027, 'name': 'Ethereum', 'symbol': 'ETH', 'is_active': 1, 'is_fiat': 0}]}}\n",
            "fondos_final: 2,676,630\n",
            "ROI_final: -0.87%\n"
          ]
        }
      ]
    },
    {
      "cell_type": "markdown",
      "source": [
        "#Sistema de archivos\n",
        "  Cluster: \\\\\n",
        "        ...Metrica total dataframe(fecha: Roi total, transacciones,market value) \\\\\n",
        "        ...Cluster1: \\\\\n",
        "                  ......Metricas dataframe(fecha: Roi total cluster, transacciones cluster ,market value cluster,fondos bal cluster) \\\\\n",
        "                  ......Fechas \\\\\n",
        "                        .........13-03-2022.csv (tokens y sus datos)\n"
      ],
      "metadata": {
        "id": "dzGupAC5IHb9"
      }
    },
    {
      "cell_type": "code",
      "source": [
        "prices = []\n",
        "# mkt_val_sin_bal = 0\n",
        "# mkt_cap_cluster2 = 0\n",
        "TO_DOWNLOAD = []\n",
        "for t in historical_tokens['2022-01-21'].keys():\n",
        "  if historical_tokens['2022-01-21'][t]['cluster'] == '2':\n",
        "    prices.append(historical_tokens['2022-01-21'][t]['price'])\n",
        "    # mkt_val_sin_bal += historical_tokens['2022-01-21'][t]['price'] * historical_tokens['2022-01-20'][t]['amount']\n",
        "    # mkt_cap_cluster2 += historical_tokens['2022-01-21'][t]['market_cap']\n",
        "    print(historical_tokens['2022-01-21'][t]['name'],historical_tokens['2022-01-21'][t]['price'],historical_tokens['2022-01-20'][t]['amount'],historical_tokens['2022-01-21'][t]['price'] * historical_tokens['2022-01-20'][t]['amount'],historical_tokens['2022-01-21'][t]['amount'],round(historical_tokens['2022-01-21'][t]['market_cap']/mkt_cap_cluster2,2))\n",
        "    TO_DOWNLOAD.append((historical_tokens['2022-01-21'][t]['name'],historical_tokens['2022-01-21'][t]['price'],historical_tokens['2022-01-20'][t]['amount'],historical_tokens['2022-01-21'][t]['price'] * historical_tokens['2022-01-20'][t]['amount'],historical_tokens['2022-01-21'][t]['amount'],round(historical_tokens['2022-01-21'][t]['market_cap']/mkt_cap_cluster2,2)))\n",
        "mkt_val_sin_bal"
      ],
      "metadata": {
        "colab": {
          "base_uri": "https://localhost:8080/"
        },
        "id": "JHQW685pSF9x",
        "outputId": "e052db75-146e-4cc7-a653-a9f3f13648e4"
      },
      "execution_count": null,
      "outputs": [
        {
          "output_type": "stream",
          "name": "stdout",
          "text": [
            "DOGE 0.1427 425949.77 60783.032179 422552.77 0.07\n",
            "AVAX 65.9227 836.62 55152.24927400001 784.01 0.06\n",
            "BUSD 1.0012 47240.55 47297.23866000001 51622.29 0.06\n",
            "MATIC 1.6991 24100.99 40949.992109000006 25348.83 0.05\n",
            "SHIB 0.0001 472500000.0 47250.0 430701999.75 0.05\n",
            "UST 0.9998 37638.16 37630.632368000006 34463.05 0.04\n",
            "ATOM 34.4181 967.78 33309.148818 1001.11 0.04\n",
            "WBTC 36460.804 0.93 33908.547719999995 0.95 0.04\n",
            "DAI 1.0004 28355.67 28367.012268 34442.38 0.04\n",
            "CRO 0.3634 86836.66 31556.442244 94816.07 0.04\n",
            "LINK 17.4263 1403.8 24463.039940000002 1482.94 0.03\n",
            "NEAR 13.2157 1861.48 24600.761236 1955.41 0.03\n",
            "UNI 12.6564 1958.48 24787.306271999998 2041.82 0.03\n",
            "LTC 114.39200000000001 217.47 24876.828240000003 225.91 0.03\n",
            "ALGO 1.0324 24274.34 25060.828616 25031.11 0.03\n",
            "TRX 0.061000000000000006 278761.06 17004.42466 278761.06 0.02\n",
            "BCH 315.2088 52.78 16636.720464 54.66 0.02\n",
            "FTM 2.2788000000000004 6948.02 15833.147976000004 7560.15 0.02\n",
            "FTT 38.455400000000004 417.9 16070.51166 448.0 0.02\n",
            "XLM 0.2031 81571.0 16567.0701 84825.6 0.02\n",
            "ICP 24.1259 759.98 18335.201482 714.09 0.02\n",
            "HBAR 0.2345 72664.36 17039.792419999998 72664.36 0.02\n",
            "MANA 2.2101 7187.4 15884.87274 7795.16 0.02\n",
            "BTCB 36400.9938 0.23 8372.228573999999 0.24 0.01\n",
            "VET 0.057300000000000004 280000.0 16044.000000000002 150332.28999999998 0.01\n",
            "AXS 58.0972 136.87 7951.763764 148.27 0.01\n",
            "ETC 25.8805 323.88 8382.17634 332.84 0.01\n",
            "THETA 3.3963 2304.48 7826.705424000001 2536.3 0.01\n",
            "LEO 3.5205 2548.75 8972.874375000001 2446.82 0.01\n",
            "FIL 21.8725 361.49 7906.690025 393.83 0.01\n",
            "KLAY 1.266 6663.38 8435.83908 6804.14 0.01\n",
            "XMR 172.0472 50.15 8628.16708 50.07 0.01\n",
            "SAND 3.3369000000000004 2402.87 8018.1369030000005 2581.45 0.01\n",
            "XTZ 3.3317 2550.54 8497.634118 2550.54 0.01\n",
            "EGLD 137.7623 56.84 7830.409132000001 62.53 0.01\n",
            "HNT 24.1359 333.8 8056.56342 356.9 0.01\n",
            "ONE 0.2165 35972.59 7788.065734999999 39787.71 0.01\n",
            "BTT 0.0026 18900000.0 49140.0 3313092.3100000005 0.01\n",
            "MIOTA 0.8586 9303.01 7987.564386 10032.66 0.01\n",
            "CAKE 8.9121 920.14 8200.379694000001 966.56 0.01\n"
          ]
        },
        {
          "output_type": "execute_result",
          "data": {
            "text/plain": [
              "861403.9994959999"
            ]
          },
          "metadata": {},
          "execution_count": 493
        }
      ]
    },
    {
      "cell_type": "code",
      "source": [
        "pd.DataFrame(TO_DOWNLOAD).to_excel('datacompleta.xlsx')"
      ],
      "metadata": {
        "id": "DAgJFE_ndqew"
      },
      "execution_count": null,
      "outputs": []
    },
    {
      "cell_type": "code",
      "source": [
        "#@title Save Metrics\n",
        "import pandas as pd\n",
        "def save_Metrics(historical_clusters_):\n",
        "  \"\"\"Esta funcion calcula las metricas globales por fecha y separa las metricas de cada cluster\"\"\"\n",
        "\n",
        "  Metrics_df = pd.DataFrame.from_dict({(i,j): historical_clusters_[i][j] \n",
        "                            for i in historical_clusters_.keys() \n",
        "                            for j in historical_clusters_[i].keys()},\n",
        "                        orient='index')\n",
        "\n",
        "  Metrics_df.index.set_names(['Fecha', 'Cluster'], inplace=True)\n",
        "\n",
        "  #Metricas globales solo se calculan el dia 5 del mes\n",
        "  Global_metrics = Metrics_df.groupby(level=[0]).sum()\n",
        "\n",
        "  #Convierto las fechas en columnas\n",
        "  Global_metrics = Global_metrics.reset_index()\n",
        "\n",
        "  #Convierto las fechas de STR -> DATETIME\n",
        "  Global_metrics['Fecha'] = pd.to_datetime(Global_metrics['Fecha'], format='%Y-%m-%d')\n",
        "\n",
        "  #Selecciono los dias 5 del mes\n",
        "  if start_date.day == 5:\n",
        "    Global_metrics = Global_metrics.loc[(Global_metrics.Fecha.dt.day == 5)]\n",
        "  else:\n",
        "    line = pd.DataFrame(Global_metrics.iloc[0].to_dict(), index=[0])\n",
        "    # concatenate two dataframe\n",
        "    filtered_dates = Global_metrics.loc[(Global_metrics.Fecha.dt.day == 5)]\n",
        "    Global_metrics = pd.concat([line, filtered_dates]).reset_index(drop=True)\n",
        "\n",
        "  Global_metrics['roi'] = (Global_metrics['market_value'] + Global_metrics['fondos_bal']) / (0.9*3000000) - 1\n",
        "\n",
        "  metrics_cluster3 = Metrics_df[Metrics_df.index.get_level_values('Cluster').isin(['3'])]\n",
        "  metrics_cluster2 = Metrics_df[Metrics_df.index.get_level_values('Cluster').isin(['2'])]\n",
        "  metrics_cluster1 = Metrics_df[Metrics_df.index.get_level_values('Cluster').isin(['1'])]\n",
        "\n",
        "\n",
        "  return Global_metrics, [metrics_cluster1, metrics_cluster2, metrics_cluster3]"
      ],
      "metadata": {
        "id": "_whV0xdWSRFo"
      },
      "execution_count": null,
      "outputs": []
    },
    {
      "cell_type": "code",
      "source": [
        "print(historical_tokens.keys())\n",
        "print(historical_tokens['2022-01-03'].keys())\n",
        "print(historical_tokens['2022-01-03']['CRV'].keys())"
      ],
      "metadata": {
        "colab": {
          "base_uri": "https://localhost:8080/"
        },
        "id": "-LqlVJO9oD4a",
        "outputId": "1f2d0888-6c13-4820-851b-092a575a9a1f"
      },
      "execution_count": null,
      "outputs": [
        {
          "output_type": "stream",
          "name": "stdout",
          "text": [
            "dict_keys(['2022-01-03', '2022-01-04', '2022-01-05', '2022-01-06'])\n",
            "dict_keys(['GRT', 'GALA', 'CAKE', 'STX', 'CRV', 'FLOW', 'BTT', 'LRC', 'KSM', 'RUNE', 'MKR', 'ENJ', 'BSV', 'XEC', 'AMP', 'QNT', 'ZEC', 'AR', 'BAT', 'CELO', 'KDA', 'NEO', 'KCS', 'CHZ', 'OKB', 'WAVES', 'ROSE', 'HT', 'DASH', 'NEXO', 'YFI', 'COMP', 'TUSD', 'HOT', 'MINA', 'IOTX', 'XDC', 'RVN', 'XEM', '1INCH', 'SUSHI', 'TFUEL', 'SCRT', 'VLX', 'BORA', 'CEL', 'DCR', 'USDP', 'GNO', 'QTUM', 'ZIL', 'ANKR', 'WAXP', 'LPT', 'OMG', 'ELON', 'IMX', 'ICX', 'REV', 'AUDIO', 'RENBTC', 'SNX', 'VGX', 'BNT', 'ZRX', 'NFT', 'SC', 'ZEN', 'SYS', 'BTG', 'FLUX', 'PERP', 'TEL', 'CKB', 'KAVA', 'SKL', 'STORJ', 'HIVE', 'CHSB', 'UMA', 'IOST', 'ONT', 'REN', 'OCEAN', 'WOO', 'DYDX', 'USDN', 'RAY', 'NU', 'MOVR', 'CEEK', 'DGB', 'POLY', 'GT', 'GLM', 'SRM', 'XNO', 'CELR', 'ANT', 'CHR', 'TRAC', 'XYO', 'UOS', 'WIN', 'XDB', 'FEI', 'JST', 'DENT', 'FET', 'RSR', 'WRX', 'ALICE', 'CSPR', 'SXP', 'REQ', 'FX', 'INJ', 'SOUL', 'CTSI', 'COTI', 'DUSK', 'PAXG', 'DVI', 'MDX', 'REEF', 'ALPHA', 'MED', 'LSK', 'POWR', 'XVG', 'EWT', 'VTHO', 'ELF', 'BCD', 'POLS', 'RLC', 'ARDR', 'OXT', 'NKN', 'KP3R', 'DAG', 'BTCST', 'BICO', 'CVC', 'SNT', 'OGN', 'CFX', 'UBT', 'SUN', 'STMX', 'HEX', 'STETH', 'TONCOIN', 'WBNB', 'CVX', 'FRAX', 'HBTC', 'SPELL', 'YOUC', 'SAFEMOON', 'BIT', 'CTC', 'WEMIX', 'XYM', 'LN', 'DFI', 'OMI', 'RNDR', 'NXM', 'ENS', 'DESO', 'RLY', 'CCXX', 'MOB', 'LUSD', 'ILV', 'ANC', 'HERO', 'XWC', 'KOK', 'TTT', 'UFO', 'RACA', 'FXS', 'KEEP', 'HTR', 'BOBA', 'SUPER', 'RPL', 'TRIBE', 'C98', 'BLOK', 'METIS', 'XPRT', 'HUSD', 'ALT', 'JASMY', 'MBOX', 'BEST', 'STARL', 'SOS', 'MASK', 'YGG', 'PLA', 'VERI', 'ORC', 'ANY', 'RGT', 'YOOSHI', 'BTRST', 'PYR', 'ALCX', 'DAO', 'LAT', 'RMRK', 'PUNDIX', 'EVER', 'AKT', 'XCH', 'WILD', 'SOLO', 'JOE', 'HDAO', 'HEDG', 'LYXe', 'DAR', 'KNC', 'GTN', 'SAPP', 'RAD', 'TWT', 'HUM', 'ACH', 'ORN', 'SURE', 'KAI', 'QRDO', 'MC', 'ONG', 'MX', 'COVAL', 'BAKE', 'HYN', 'ATLAS', 'MNGO', 'ASD', 'DIVI', 'BFC', 'VOXEL', 'WNCG', 'KILT', 'SFUND', 'PROM', 'REP', 'XSGD', 'GUSD', 'BIOT', 'ARRR', 'STRAX', 'BAND', 'TLM', 'DVF', 'GTC', 'ORBS', 'VXV', 'BADGER', 'XAUT', 'RBN', 'MAID', 'NMR', 'HXRO', 'XVS', 'UTK', 'META', 'EXRD', 'C20', 'SOV', 'STEEM', 'MIR', 'ARK', 'AGIX', 'TRU', 'BLCT', 'DAWN', 'SAFE', 'BSW', 'SSX', 'TOMO', 'DPI', 'MLN', 'MVL', 'ALBT', 'HNS', 'CENNZ', 'ETN', 'FIDA', 'BETA', 'GXC', 'RIF', 'NOIA', 'IDEX', 'PRE', 'ERG', 'LINA', 'QKC', 'EFI', 'SFP', 'TLOS', 'DG', 'CYCLUB', 'GHST', 'SNL', 'API3', 'AIOZ', 'TITAN', 'RKN', 'EPS', 'MTL', 'CLV', 'XPR', 'USDX', 'STPT', 'VRA', 'AMPL', 'BZZ', 'TIME', 'LCX', 'ZLW', 'UQC', 'MXC', 'FUN', 'DEP', 'ABBC', 'TVK', 'WAN', 'DERO', 'DERC', 'TKO', 'XNC', 'AURY', 'BAL', 'IQ', 'CFG', 'STAKE', 'PEAK', 'SUSD', 'SAMO', 'SLIM', 'CHESS', 'RFOX', 'ERN', 'VVS', 'DKA', 'KIN', 'ZB', 'STRK', 'AGLD', 'BNX', 'YFII', 'ALEPH', 'DDX', 'RBTC', 'KLV', 'QUACK', 'SWAP', 'DPR', 'DFA', 'EURS', 'BTS', 'ARPA', 'ATA', 'PHA', 'LTO', 'BSCPAD', 'FARM', 'GAFI', 'IRIS', 'WNXM', 'PRO', 'POLIS', 'BOSON', 'DAD', 'CTK', 'QUICK', 'MLK', 'ROOK', 'aEth', 'vUSDC', 'DVPN', 'BNANA', 'AQT', 'CUSD', 'RARE', 'DODO', 'GF', 'WHALE', 'GODS', 'HOO', 'SAITO', 'BABY', 'FOX', 'BOND', 'MOC', 'LIT', 'MNW', 'AERGO', 'MFT', 'KMD', 'TROY', 'VEGA', 'TT', 'AVA', 'COS', 'FORTH', 'CBG', 'DATA', 'CRE', 'BZRX', 'LOOM', 'COCOS', 'CTXC', 'RAI', 'HUNT', 'DFL', 'ALPACA', 'TPT', 'MOBI', 'MWC', 'MSOL', 'BIFI', 'EUM', 'TABOO', 'CRTS', 'RARI', 'KIMCHI', 'SLP', 'KAR', 'AKRO', 'TRB', 'FLX', 'LDO', 'HAI', 'MDT', 'DNT', 'SSV', 'ADX', 'CBK', 'BOR', 'MIX', 'AVAX', 'DOGE', 'SHIB', 'MATIC', 'BUSD', 'CRO', 'WBTC', 'UNI', 'ALGO', 'LINK', 'LTC', 'UST', 'NEAR', 'DAI', 'ATOM', 'BCH', 'TRX', 'FTM', 'XLM', 'MANA', 'AXS', 'FTT', 'ICP', 'HBAR', 'VET', 'SAND', 'FIL', 'BTCB', 'EGLD', 'THETA', 'ETC', 'HNT', 'XTZ', 'XMR', 'MIOTA', 'LEO', 'ONE', 'KLAY', 'AAVE', 'EOS', 'BTC', 'ETH', 'BNB', 'USDT', 'SOL', 'ADA', 'USDC', 'XRP', 'LUNA', 'DOT'])\n",
            "dict_keys(['name', 'rank', 'price', 'market_cap', 'amount', 'operacion', 'variacion', 'market_value', 'cluster', 'roi'])\n"
          ]
        }
      ]
    },
    {
      "cell_type": "code",
      "source": [
        "def save_Tokens(historical_tokens):\n",
        "\n",
        "  # \"\"\"Genera dataframe por fecha con las coins segun el cluster\"\"\"\n",
        "  data_fecha_cluster = {}\n",
        "\n",
        "  for fecha in historical_tokens.keys():\n",
        "\n",
        "    data_fecha_cluster[fecha] = {'1': None, '2': None, '3': None}\n",
        "    \n",
        "    to_df1 = {key:[] for key in ['name', 'rank', 'price', 'market_cap', 'amount', 'operacion', 'variacion', 'market_value', 'cluster', 'roi']}\n",
        "    to_df2 = {key:[] for key in ['name', 'rank', 'price', 'market_cap', 'amount', 'operacion', 'variacion', 'market_value', 'cluster', 'roi']}\n",
        "    to_df3 = {key:[] for key in ['name', 'rank', 'price', 'market_cap', 'amount', 'operacion', 'variacion', 'market_value', 'cluster', 'roi']}\n",
        "  \n",
        "    for token, token_dict in historical_tokens[fecha].items():\n",
        "\n",
        "      if token_dict['cluster'] == '1':\n",
        "      \n",
        "        to_df1['name'].append(token_dict['name'])\n",
        "        to_df1['rank'].append(token_dict['rank'])\n",
        "        to_df1['price'].append(token_dict['price'])\n",
        "        to_df1['market_cap'].append(token_dict['market_cap'])\n",
        "        to_df1['amount'].append(token_dict['amount'])\n",
        "        to_df1['operacion'].append(token_dict['operacion'])\n",
        "        to_df1['variacion'].append(token_dict['variacion'])\n",
        "        to_df1['market_value'].append(token_dict['market_value'])\n",
        "        to_df1['cluster'].append(token_dict['cluster'])\n",
        "        to_df1['roi'].append(token_dict['roi'])\n",
        "\n",
        "      elif token_dict['cluster'] == '2':\n",
        "      \n",
        "        to_df2['name'].append(token_dict['name'])\n",
        "        to_df2['rank'].append(token_dict['rank'])\n",
        "        to_df2['price'].append(token_dict['price'])\n",
        "        to_df2['market_cap'].append(token_dict['market_cap'])\n",
        "        to_df2['amount'].append(token_dict['amount'])\n",
        "        to_df2['operacion'].append(token_dict['operacion'])\n",
        "        to_df2['variacion'].append(token_dict['variacion'])\n",
        "        to_df2['market_value'].append(token_dict['market_value'])\n",
        "        to_df2['cluster'].append(token_dict['cluster'])\n",
        "        to_df2['roi'].append(token_dict['roi'])\n",
        "\n",
        "      else :\n",
        "      \n",
        "        to_df3['name'].append(token_dict['name'])\n",
        "        to_df3['rank'].append(token_dict['rank'])\n",
        "        to_df3['price'].append(token_dict['price'])\n",
        "        to_df3['market_cap'].append(token_dict['market_cap'])\n",
        "        to_df3['amount'].append(token_dict['amount'])\n",
        "        to_df3['operacion'].append(token_dict['operacion'])\n",
        "        to_df3['variacion'].append(token_dict['variacion'])\n",
        "        to_df3['market_value'].append(token_dict['market_value'])\n",
        "        to_df3['cluster'].append(token_dict['cluster'])\n",
        "        to_df3['roi'].append(token_dict['roi'])\n",
        "\n",
        "      data_fecha_cluster[fecha]['1'] = to_df1\n",
        "      data_fecha_cluster[fecha]['2'] = to_df2\n",
        "      data_fecha_cluster[fecha]['3'] = to_df3\n",
        "\n",
        "\n",
        "\n",
        "  return data_fecha_cluster"
      ],
      "metadata": {
        "id": "BTsFoWFzn2lD"
      },
      "execution_count": null,
      "outputs": []
    },
    {
      "cell_type": "code",
      "source": [
        "data_fecha_cluster = save_Tokens(historical_tokens)\n",
        "print(data_fecha_cluster)\n",
        "\n",
        "# pd.DataFrame.from_dict(data_fecha_cluster['2022-01-03']['1'])"
      ],
      "metadata": {
        "id": "XCwIfw-zrveB",
        "colab": {
          "base_uri": "https://localhost:8080/"
        },
        "outputId": "c7018e52-accc-4c86-990e-b9b856c3eb1f"
      },
      "execution_count": null,
      "outputs": [
        {
          "output_type": "stream",
          "name": "stdout",
          "text": [
            "{'2022-01-20': {'1': {'name': ['EOS', 'STX', 'BTT', 'GRT', 'FLOW', 'KSM', 'BSV', 'MKR', 'GALA', 'CRV', 'ENJ', 'XEC', 'RUNE', 'ZEC', 'QNT', 'NEO', 'CELO', 'KCS', 'HT', 'AMP', 'OKB', 'ROSE', 'LRC', 'TUSD', 'CHZ', 'BAT', 'WAVES', 'AR', 'DASH', 'NEXO', 'MINA', 'KDA', 'SCRT', 'YFI', 'COMP', 'XEM', 'XDC', 'TFUEL', '1INCH', 'USDP', 'IOTX', 'HOT', 'DCR', 'RVN', 'BORA', 'SUSHI', 'RENBTC', 'CEL', 'OMG', 'BNT', 'NFT', 'SYS', 'ZIL', 'VLX', 'QTUM', 'WOO', 'WAXP', 'ANKR', 'PERP', 'LPT', 'IMX', 'GNO', 'ELON', 'AUDIO', 'REV', 'ICX', 'BTG', 'SC', 'KAVA', 'VGX', 'CHSB', 'CKB', 'ZEN', 'TEL', 'ZRX', 'GT', 'SNX', 'USDN', 'UMA', 'ONT', 'STORJ', 'DYDX', 'FLUX', 'IOST', 'SKL', 'OCEAN', 'CHR', 'HIVE', 'CELR', 'FEI', 'POLY', 'NU', 'REN', 'RAY', 'GLM', 'DGB', 'XNO', 'SRM', 'WIN', 'JST', 'FET', 'MOVR', 'XYO', 'PAXG', 'CEEK', 'UOS', 'TRAC', 'DENT', 'WRX', 'COTI', 'RSR', 'DUSK', 'SXP', 'CSPR', 'ALICE', 'FX', 'REQ', 'XDB', 'CTSI', 'KP3R', 'INJ', 'POWR', 'ANT', 'BICO', 'MED', 'MDX', 'LSK', 'TIME', 'GUSD', 'PRO', 'DAG', 'DVI', 'SOUL', 'BTCST', 'ALPHA', 'REEF', 'VTHO', 'CFX', 'ORBS', 'EWT', 'ELF', 'ARDR', 'BCD', 'ASD', 'MXC', 'XVG', 'SNT', 'OXT', 'BADGER', 'SUN', 'HEX', 'STETH', 'TONCOIN', 'FRAX', 'WBNB', 'CVX', 'HBTC', 'CCXX', 'OMI', 'YOUC', 'BIT', 'SAFEMOON', 'XYM', 'SPELL', 'DFI', 'LN', 'GLMR', 'LUSD', 'TTT', 'RLY', 'MOB', 'NXM', 'ALT', 'WEMIX', 'KOK', 'RNDR', 'METIS', 'DESO', 'HERO', 'ILV', 'ANC', 'XWC', 'TRIBE', 'FXS', 'ANY', 'ENS', 'AURORA', 'BOBA', 'HUSD', 'C98', 'RACA', 'RPL', 'VR', 'SUPER', 'KEEP', 'BEST', 'JASMY', 'XPRT', 'RGT', 'YGG', 'UFO', 'SOS', 'KNC', 'PLA', 'OUSD', 'PEOPLE', 'MBOX', 'BLOK', 'DAO', 'GTN', 'AKT', 'XCH', 'PYR', 'EVER', 'HTR', 'SAPP', 'STARL', 'MASK', 'HEDG', 'TWT', 'CENNZ', 'ORC', 'LYXe', 'YOOSHI', 'LAT', 'PUNDIX', 'ALCX', 'BTRST', 'VERI', 'MNGO', 'XSGD', 'BFC', 'DEP', 'SURE', 'ACH', 'XAUT', 'RMRK', 'ORN', 'HUM', 'CVC', 'RLC', 'DG', 'JOE', 'TLOS', 'DIVI', 'PROM', 'ONG', 'POLS', 'RAD', 'WILD', 'HXRO', 'MX', 'NKN', 'KAI', 'BLCT', 'MAID', 'REP', 'UBT', 'SFUND', 'OGN', 'SAFE', 'BAND', 'ARRR', 'STMX', 'STRAX', 'ABBC', 'BAKE', 'BETA', 'API3', 'WNCG', 'SOV', 'COVAL', 'EXRD', 'NMR', 'META', 'C20', 'USDX', 'THN', 'DAWN', 'ALEPH', 'STEEM', 'ETN', 'DVF', 'UTK', 'GXC', 'ARK', 'DAR', 'CLV', 'RBN', 'RIF', 'CQT', 'TLM', 'AMPL', 'GHST', 'XWG', 'XVS', 'MVL', 'ATLAS', 'PRE', 'GTC', 'FUN', 'ERG', 'TRU', 'AGIX', 'MC', 'KILT', 'RKN', 'DPR', 'SSX', 'STPT', 'CFG', 'MLN', 'VXV', 'DPI', 'SOLO', 'ELA', 'PEAK', 'TOMO', 'SNL', 'EURS', 'HNS', 'BIFI', 'ZLW', 'MIR', 'VRA', 'SUSD', 'BSW', 'EPS', 'EFI', 'SWAP', 'QRDO', 'MTL', 'AURY', 'BIOT', 'XNC', 'XPR', 'UQC', 'BSCPAD', 'IDEX', 'ALBT', 'QKC', 'HDAO', 'TVK', 'BZZ', 'CUSD', 'TITAN', 'STRK', 'NOIA', 'VOXEL', 'IRIS', 'vUSDC', 'TKO', 'BAL', 'SFP', 'RBTC', 'ROUTE', 'WAN', 'ZB', 'VEGA', 'CUDOS', 'KLV', 'DERO', 'NCT', 'LINA', 'IQ', 'CRTS', 'DKA', 'RFOX', 'FIDA', 'HOO', 'CBG', 'SHFT', 'QUACK', 'SLIM', 'CORE', 'LCX', 'ARPA', 'YFII', 'MBL', 'DVPN', 'PHA', 'DFA', 'FUSE', 'STAKE', 'DERC', 'ERN', 'FARM', 'GAFI', 'RAI', 'AIOZ', 'aEth', 'DDX', 'XMON', 'CHESS', 'ATA', 'AVINOC', 'LTO', 'BTS', 'WNXM', 'BNANA', 'QUICK', 'BZRX', 'CTK', 'BABY', 'KIN', 'STRONG', 'XFT', 'AGLD', 'AQT', 'ZNN', 'AERGO', 'RISE', 'WHALE', 'HUNT', 'POLIS', 'GF', 'DODO', 'FOX', 'DAD', 'SSV', 'KMD', 'ASM', 'CYCLUB', 'CUBE', 'SAITO', 'ONUS', 'BOSON', 'PNK', 'SHPING', 'EUM', 'MONA', 'MLK', 'MOC', 'TT', 'TROY', 'BOND', 'VVS', 'SCP', 'DATA', 'AVA', 'LOOM', 'GMT', 'CRE', 'FORTH', 'CRA', 'HARD', 'LIT', 'LQTY'], 'rank': ['51', '52', '206', '54', '55', '56', '57', '58', '59', '60', '61', '62', '63', '64', '65', '66', '67', '68', '69', '70', '71', '72', '73', '74', '75', '76', '77', '78', '79', '80', '81', '82', '83', '84', '85', '86', '87', '88', '89', '90', '91', '92', '93', '94', '95', '96', '97', '98', '99', '100', '101', '102', '103', '104', '105', '106', '107', '108', '109', '110', '111', '112', '113', '114', '115', '116', '117', '118', '119', '120', '121', '122', '123', '124', '125', '126', '127', '128', '129', '130', '131', '132', '133', '134', '135', '136', '137', '138', '139', '140', '141', '142', '143', '144', '145', '146', '147', '148', '149', '150', '151', '152', '153', '154', '155', '156', '157', '158', '159', '160', '161', '162', '163', '164', '165', '166', '167', '168', '169', '170', '171', '172', '173', '174', '175', '176', '177', '178', '179', '180', '181', '182', '183', '184', '185', '186', '187', '188', '189', '190', '191', '192', '193', '194', '195', '196', '197', '198', '199', '200', '201', '202', '203', '204', '205', '207', '208', '209', '210', '211', '212', '213', '214', '215', '216', '217', '218', '219', '220', '221', '222', '223', '224', '225', '226', '227', '228', '229', '230', '231', '232', '233', '234', '235', '236', '237', '238', '239', '240', '241', '242', '243', '244', '245', '246', '247', '248', '249', '250', '251', '252', '253', '254', '255', '256', '257', '258', '259', '260', '261', '262', '263', '264', '265', '266', '267', '268', '269', '270', '271', '272', '273', '274', '275', '276', '277', '278', '279', '280', '281', '282', '283', '284', '285', '286', '287', '288', '289', '290', '291', '292', '309', '294', '295', '296', '297', '298', '299', '300', '301', '302', '303', '304', '305', '306', '307', '308', '310', '311', '312', '313', '314', '315', '316', '317', '318', '319', '320', '321', '322', '323', '324', '325', '326', '327', '328', '329', '330', '331', '332', '333', '334', '335', '336', '337', '338', '339', '340', '341', '342', '343', '344', '345', '346', '347', '348', '349', '350', '351', '352', '353', '354', '355', '356', '357', '358', '359', '360', '361', '362', '363', '364', '365', '366', '367', '368', '369', '370', '371', '372', '373', '374', '375', '376', '377', '378', '379', '380', '381', '382', '383', '384', '385', '386', '387', '388', '389', '390', '391', '392', '393', '394', '395', '396', '397', '398', '399', '400', '401', '402', '403', '404', '405', '406', '407', '408', '409', '410', '411', '412', '413', '414', '415', '416', '417', '418', '419', '420', '421', '422', '423', '424', '425', '426', '427', '428', '429', '430', '431', '432', '433', '434', '435', '436', '437', '438', '439', '440', '441', '442', '443', '444', '445', '446', '447', '448', '449', '450', '451', '452', '453', '454', '455', '456', '457', '458', '459', '460', '461', '462', '463', '464', '465', '466', '467', '468', '469', '470', '471', '472', '473', '474', '475', '476', '477', '478', '479', '480', '481', '482', '483', '484', '485', '486', '487', '488', '489', '490', '491', '492', '493', '494', '495', '496', '497', '498', '499', '500'], 'price': [2.6311, 1.9612, 0.0001, 0.5007, 6.5855, 239.16490000000002, 104.2272, 1901.5153, 0.26089999999999997, 3.9641, 2.1102000000000003, 0.0002, 5.048, 119.428, 132.5894, 22.6977, 4.0331, 19.4305, 9.7234, 0.0357, 24.7543, 0.4188, 1.0618, 0.9998, 0.2345, 0.9105, 12.6394, 39.953300000000006, 121.2726, 2.197, 3.3463000000000003, 7.0306, 7.744, 31351.491, 161.6439, 0.1099, 0.07970000000000001, 0.18139999999999998, 2.0379, 1.0001, 0.1, 0.0056, 66.00800000000001, 0.0789, 0.8553, 5.7989999999999995, 40658.5891, 3.0706, 5.2241, 2.8201, 0.0001, 1.1124, 0.057100000000000005, 0.3104, 7.0373, 0.7815, 0.3488, 0.0816, 8.9383, 30.1799, 3.3586, 336.49449999999996, 0.0001, 1.1895, 0.0073, 0.8763, 34.817400000000006, 0.0123, 4.0842, 2.1125000000000003, 0.5700999999999999, 0.0194, 47.421600000000005, 0.0098, 0.6549, 7.0304, 4.770099999999999, 0.9832, 7.7442, 0.5685, 1.3895, 7.4864999999999995, 2.1242, 0.0259, 0.14809999999999998, 0.749, 0.8039, 1.0726, 0.06810000000000001, 0.9928, 0.4379, 0.5655, 0.4001, 4.8, 0.39139999999999997, 0.0263, 2.8230000000000004, 2.7615000000000003, 0.0005, 0.0482, 0.46299999999999997, 119.7649, 0.0262, 1843.8082, 0.4438, 1.1521, 0.889, 0.0033, 0.9828, 0.368, 0.0228, 0.7545999999999999, 1.5233, 0.09570000000000001, 9.5795, 0.7003, 0.2823, 0.3241, 0.5623, 1354.5644, 6.1101, 0.5704, 6.6772, 3.051, 0.0463, 0.298, 1.8702, 334.5055, 0.9977, 3.1870000000000003, 0.182, 0.7807999999999999, 2.1846, 19.7247, 0.495, 0.012499999999999999, 0.0049, 0.1629, 0.07250000000000001, 6.936, 0.383, 0.20579999999999998, 1.096, 0.30829999999999996, 0.07780000000000001, 0.012499999999999999, 0.057, 0.2843, 15.635299999999999, 0.0184, 0.213, 2991.5958, 3.1165000000000003, 1.0003, 439.9607, 38.48800000000001, 40845.013, 74.542, 0.0077, 0.16829999999999998, 1.9234, 0.0001, 0.1774, 0.0121, 2.9156000000000004, 131.6789, 9.8268, 1.0001, 6.7443, 0.2933, 8.9911, 100.43990000000001, 11.0546, 5.1082, 5.5629, 2.8294, 255.0786, 54.845600000000005, 0.0939, 725.1545, 2.2204, 0.5985, 0.9756, 26.7719, 23.1742, 21.0034, 21.5893, 2.6394, 1.0001, 2.1129000000000002, 0.0021999999999999997, 35.50020000000001, 0.5094, 0.8848, 0.5673, 0.9575, 0.0679, 4.3468, 25.8647, 3.6512000000000002, 0.0001, 0.0001, 1.5755, 0.8972, 0.9924999999999999, 0.0529, 3.2914000000000003, 0.0316, 3.9138, 0.9891, 2.1188000000000002, 83.027, 10.8395, 0.32539999999999997, 1.0543, 0.4394, 0.0001, 7.926, 0.6599, 0.6441, 0.184, 0.382, 14.4581, 0.0001, 0.0969, 0.8371999999999999, 222.0865, 2.3468, 94.9349, 0.2045, 0.7351, 0.19039999999999999, 0.0545, 0.007500000000000001, 0.050600000000000006, 1839.758, 19.938, 4.654, 0.2666, 0.2833, 2.3412, 490.2942, 1.1835, 0.6841, 0.0688, 11.0426, 0.6706, 2.0679000000000003, 6.8631, 2.1477000000000004, 0.4387, 1.7941, 0.2532, 0.0534, 4.5374, 0.3775, 15.209299999999999, 1.1277, 7.1395, 0.4264, 7.882099999999999, 4.6758, 0.852, 0.0163, 1.2206, 0.16499999999999998, 0.8186, 0.6035, 4.1898, 1.2775, 7.3601, 0.0855, 0.2057, 25.4385, 0.0881, 3.7443000000000004, 0.9758, 0.38189999999999996, 2.0923000000000003, 0.8052, 0.3727, 0.0083, 6.0762, 0.3054, 1.8647, 1.0125, 1.1269, 0.5373, 2.6847000000000003, 0.1672, 0.5472, 0.1503, 1.048, 2.1012000000000004, 0.11710000000000001, 11.3699, 0.0103, 0.0621, 0.33649999999999997, 9.4604, 0.012199999999999999, 4.1898, 0.2443, 0.15339999999999998, 3.0916, 2.6625, 0.5312, 0.1242, 0.049100000000000005, 0.0877, 0.792, 69.87440000000001, 3.1817, 221.9348, 0.591, 5.9807, 0.0976, 1.3572, 0.1775, 1.1263, 0.2597, 1638.9603, 1.6148, 1.4993, 0.026099999999999998, 1.0003, 0.6612, 0.2054, 0.6851, 1.1598, 3.3813000000000004, 1.6786, 11.5428, 0.062200000000000005, 1.4416, 0.012499999999999999, 10.9066, 1.373, 0.174, 0.4653, 0.0168, 0.031700000000000006, 0.1575, 2.0715000000000003, 0.9923, 1.9262, 33.388200000000005, 0.2006, 1.8409, 0.08560000000000001, 0.0214, 0.9389, 14.6767, 0.9382, 40675.126299999996, 13.8498, 0.5282, 0.21769999999999998, 10.2561, 0.0357, 0.029599999999999998, 8.9816, 0.0655, 0.0305, 0.009899999999999999, 0.0055000000000000005, 0.0937, 0.0731, 2.1168, 1.1432, 2.8096, 0.6433, 0.0001, 1.594, 9144.919399999999, 0.12240000000000001, 0.0736, 2364.3091000000004, 0.0067, 0.0133, 0.3251, 1.5735999999999999, 1.6388, 10.9795, 2.2672000000000003, 6.6831, 128.6087, 85.8979, 3.0083, 0.247, 2904.3291000000004, 3.2365000000000004, 57078.014899999995, 1.4297, 0.48519999999999996, 0.214, 0.27649999999999997, 0.0275, 48.119, 2.5397000000000003, 244.2007, 0.24029999999999999, 1.27, 0.5445, 0.0001, 566.9952, 16.8495, 1.1101, 2.9659000000000004, 12.1153, 0.21039999999999998, 0.0013, 10.4392, 0.6892, 3.5158, 1.8044, 0.6805, 0.3912, 0.1729, 7.6678, 0.578, 0.0707, 0.056900000000000006, 5.912, 0.0702, 0.738, 1.1145, 0.1182, 0.0478, 2.6016000000000004, 1.1031, 0.9232, 0.18789999999999998, 0.0089, 0.008199999999999999, 13.1442, 0.0001, 1.7491, 0.0921, 1.3864, 0.07, 0.29259999999999997, 0.008, 6.7405, 1.009, 0.6523, 2.2065, 4.4097], 'market_cap': [2574148593.84, 2537853326.41, 2187313861.88, 2360492923.06, 2094698307.28, 2025749403.14, 1975827726.86, 1872100914.36, 1819399227.54, 1793476984.19, 1788345843.8, 1708675643.47, 1669268087.84, 1620329717.16, 1600715395.99, 1601061475.34, 1561208238.51, 1556739416.3, 1524042407.59, 1503883036.42, 1485249943.07, 1462402622.85, 1411296423.25, 1397358781.87, 1395967808.68, 1360708643.26, 1355913198.04, 1334226799.65, 1277896114.82, 1230281788.52, 1187409085.0, 1175901303.68, 1160154725.88, 1148647183.2, 1024493833.96, 988116383.76, 979186672.43, 961135556.12, 953832032.14, 945645656.92, 953182975.74, 944473350.17, 903932714.97, 825034139.85, 736540163.59, 737880779.65, 736577268.82, 733428818.17, 732642389.96, 729357153.91, 711320772.91, 702925995.14, 700623623.21, 698719242.2, 696517241.77, 690823427.18, 666604671.69, 665598384.12, 665675643.17, 638745946.31, 631943358.25, 627571097.66, 624676312.59, 613405208.73, 614188315.54, 608924568.85, 609786888.93, 606879453.56, 603621352.77, 588271980.04, 570024460.68, 568577884.0, 567986178.05, 557617996.43, 554976103.23, 549670181.48, 547799812.4, 524190658.61, 504113964.87, 497492558.76, 489908669.64, 490874809.84, 476964920.13, 467633525.87, 470981254.23, 459175987.58, 456061729.64, 420549148.6, 420059105.39, 421887616.18, 393389899.52, 397444515.68, 399141429.13, 393289328.74, 391271410.4, 393212669.35, 376150005.44, 367902343.02, 366376662.15, 350933191.9, 345340889.33, 337461716.68, 335136700.64, 333107470.82, 330216705.52, 325722768.15, 323556548.03, 321319746.44, 319420764.65, 319575903.0, 299342325.14, 293861468.86, 295459223.95, 292457957.46, 293130458.19, 286044899.62, 282117309.89, 283394803.26, 276126803.48, 270914216.84, 266723998.0, 264781693.08, 264475236.48, 262840695.61, 248479104.24, 248025276.13, 241050305.15, 237536301.0, 237377629.19, 235355304.97, 230430475.97, 228269210.15, 227320736.47, 225172493.24, 220883101.12, 216952135.15, 215456868.3, 210637987.81, 208141200.79, 208507743.38, 208469350.43, 205480576.52, 204378874.12, 203609670.58, 205387558.33, 204764383.28, 197620511.66, 196317007.06, 194797526.74, 192946828.05, 36918742492.86, 5088509522.93, 3806342686.65, 2652520791.31, 2286889054.0, 1810682059.31, 1629065851.86, 1331650448.11, 1268496515.64, 1146725291.83, 1127564652.77, 995667333.39, 989526959.15, 974420937.51, 876148815.99, 786885956.91, 759452381.74, 719450032.88, 706722025.39, 690779398.42, 667296251.11, 664007517.66, 663270268.5, 629490312.07, 597071106.84, 563425478.73, 525449723.0, 487276741.73, 477816401.92, 466195932.6, 461678249.42, 445321573.54, 442348180.29, 433954738.45, 431949583.2, 425208165.69, 432583805.32, 417816475.25, 409759513.55, 390873764.83, 390673697.23, 364932397.29, 361774032.03, 357765952.4, 347482231.45, 345698619.7, 322598204.0, 322590050.5, 313871979.48, 302490545.1, 307974591.83, 290997149.79, 280124258.81, 271127157.4, 271279010.13, 267245524.95, 262820531.39, 262697078.47, 247051201.35, 244783593.0, 241242509.21, 240713101.2, 237357828.62, 239185269.78, 237788611.35, 236147496.27, 232092346.92, 230886446.72, 230083667.47, 223446476.93, 220733440.81, 223458185.97, 219847719.93, 224066772.64, 222165565.21, 216378734.12, 216798070.06, 206350140.11, 204076245.89, 204360027.37, 204938172.19, 202029000.81, 197505289.61, 197536980.08, 195846065.55, 194184769.39, 189410422.22, 191509171.06, 189560698.12, 189776155.76, 187451792.89, 169982766.81, 186584778.52, 184760689.7, 185468917.52, 181648303.71, 181808982.95, 182421428.66, 179608712.47, 179715206.92, 178695858.81, 179402196.96, 177186372.63, 172991720.93, 172419296.79, 170788044.77, 167301657.06, 169133177.92, 164809529.45, 165636991.05, 164225878.91, 164547500.72, 161586943.1, 161602948.3, 162382441.76, 158647469.42, 158408366.89, 154367881.16, 154631263.66, 153020134.09, 153579137.12, 152679112.41, 151092134.12, 149794021.79, 148532430.27, 149739308.66, 148689080.85, 148350252.19, 147496351.42, 149254312.33, 147177251.94, 147059082.63, 146721000.62, 140452774.64, 139846719.44, 136236782.76, 138824396.87, 140185255.37, 137472509.08, 136742919.93, 139427263.73, 137292402.17, 137401000.27, 135936438.76, 135661943.5, 135768313.05, 136093112.31, 133966944.87, 133427824.61, 134318884.54, 133423770.82, 134122171.31, 134064717.79, 133950981.54, 131671382.41, 131578022.58, 128990244.71, 128620754.81, 128624512.94, 127264452.03, 125383299.64, 125263058.75, 124411465.3, 124057830.17, 118185042.35, 121685636.15, 121505937.54, 120732204.82, 120372161.41, 117269669.5, 119156428.32, 118005136.58, 116795205.86, 116554007.32, 116031215.24, 115249762.61, 114893210.35, 114998239.93, 116356478.93, 113137585.88, 112120057.22, 111768995.77, 110810273.53, 109028391.02, 109951356.0, 109996353.19, 109065072.2, 108747921.92, 108766944.68, 108375919.01, 106762370.47, 107493984.68, 106323553.65, 104779866.19, 103527959.98, 102862767.98, 103258409.71, 102709204.83, 102336950.34, 102123329.8, 101656599.95, 101855016.58, 101911525.05, 101466298.81, 101501836.98, 101983970.41, 101756536.24, 100821612.38, 101205893.07, 100648602.59, 100277100.79, 100019508.29, 101210968.0, 98707147.62, 98564910.7, 97589394.87, 95284177.73, 95727297.84, 94681867.8, 94224616.53, 92712800.77, 92322579.72, 91830995.19, 91648164.16, 91449192.58, 91294820.45, 91348796.52, 91252868.72, 89306655.48, 89373657.79, 88392239.65, 88401556.6, 90203316.13, 88128120.35, 88077441.48, 86888891.33, 85743999.24, 85734544.1, 85209625.27, 85423659.98, 85183970.07, 84452402.09, 85326938.66, 83395997.52, 83565935.12, 83241833.76, 82169707.86, 81994531.6, 80693670.88, 80574136.17, 79878022.61, 92563269.62, 79503577.3, 79147213.63, 79178351.69, 78397840.99, 75653853.46, 77890111.03, 77194827.3, 76698579.51, 76055220.94, 76054212.75, 76239453.08, 76044153.83, 75938820.93, 76115410.93, 75216927.51, 75534215.76, 75169660.02, 76676961.15, 75007541.8, 74731812.18, 74664742.82, 73899356.03, 74686463.87, 73352835.9, 73648361.62, 73264799.18, 81202145.4, 72577595.58, 72502171.17, 72149696.52, 68955591.15, 71655056.64, 71916277.74, 71079541.04, 71145447.29, 70605527.33, 70610630.71, 70150982.13, 69863983.33, 69451856.06, 69064331.04, 68677325.3, 67530432.68, 68616358.33, 68429273.04, 67796993.56], 'amount': [1000.53, 1342.29, 18900000.0, 5257.64, 399.74, 11.01, 25.26, 1.38, 10090.07, 664.09, 1247.51, 13162500.0, 521.49, 22.04, 19.85, 115.98, 652.72, 135.48, 270.74, 73739.5, 106.35, 6285.82, 2479.28, 2633.03, 11226.01, 2891.27, 208.28, 65.89, 21.71, 1198.22, 746.35, 355.23, 322.51, 0.08, 15.45, 22725.2, 31336.26, 13767.92, 1225.53, 2497.25, 24975.0, 445982.14, 37.84, 31653.99, 2920.03, 430.68, 0.06, 813.36, 478.07, 885.61, 24975000.0, 2245.15, 43739.05, 8046.07, 354.89, 3195.78, 7160.26, 30606.62, 279.42, 82.75, 683.32, 6.82, 22950000.0, 1929.38, 314383.56, 2618.97, 65.92, 186585.37, 561.92, 1086.39, 4025.61, 118298.97, 48.4, 234183.67, 3504.35, 326.44, 481.12, 2334.21, 296.35, 4036.94, 1651.67, 306.55, 1080.41, 88610.04, 15496.29, 3064.09, 2854.83, 2139.66, 33700.44, 2311.64, 4932.63, 3819.63, 5398.65, 450.0, 5518.65, 82129.28, 765.14, 782.18, 4320000.0, 44813.28, 4665.23, 18.04, 82442.75, 1.17, 4867.06, 1874.84, 2429.7, 654545.45, 2197.8, 5869.57, 94736.84, 2862.44, 1417.97, 22570.53, 225.48, 3084.39, 7651.43, 6664.61, 3841.37, 1.59, 331.42, 3550.14, 303.27, 663.72, 43736.5, 6795.3, 1082.77, 6.05, 2029.67, 635.39, 11126.37, 2593.49, 926.94, 102.66, 4090.91, 162000.0, 413265.31, 12430.94, 27931.03, 291.96, 5287.21, 9839.65, 1847.63, 6568.28, 26028.28, 162000.0, 35526.32, 7122.76, 129.51, 110054.35, 8873.24, 0.63, 606.45, 1889.43, 4.3, 49.11, 0.05, 25.35, 245454.55, 11229.95, 982.63, 18900000.0, 10653.89, 156198.35, 648.24, 14.35, 192.33, 1889.81, 280.24, 6443.91, 210.21, 18.82, 170.97, 369.99, 339.75, 667.99, 7.41, 34.46, 20127.8, 2.33, 760.0, 2819.55, 1729.7, 63.03, 72.82, 80.34, 78.16, 639.35, 1687.33, 798.67, 767045.45, 47.53, 3312.72, 1907.21, 2974.62, 1762.4, 24852.72, 388.22, 65.24, 462.18, 16875000.0, 16875000.0, 1071.09, 1880.85, 1700.25, 31899.81, 512.7, 53401.9, 431.17, 1569.61, 732.73, 18.7, 143.23, 4771.05, 1472.54, 3533.23, 15525000.0, 195.87, 2352.63, 2410.34, 8437.5, 4064.14, 107.38, 15525000.0, 16021.67, 1854.4, 6.99, 661.54, 16.35, 7591.69, 2111.96, 8153.89, 28486.24, 207000.0, 30681.82, 0.84, 77.87, 333.58, 5823.33, 5003.53, 605.46, 2.89, 1197.72, 2072.07, 20603.2, 128.37, 2113.78, 685.48, 206.54, 660.01, 3231.14, 790.09, 5598.34, 26544.94, 312.4, 3754.97, 93.2, 1256.98, 198.54, 3324.34, 179.84, 303.16, 1663.73, 86963.19, 1161.31, 8590.91, 1731.61, 2348.8, 289.99, 951.08, 165.08, 14210.53, 5906.66, 47.76, 13791.15, 324.49, 1245.13, 3181.46, 580.7, 1508.94, 3259.99, 146385.54, 199.96, 3978.39, 651.58, 1200.0, 1078.18, 2261.31, 452.56, 7266.75, 2220.39, 8083.83, 1159.35, 578.24, 10375.75, 106.86, 117961.17, 19565.22, 3209.51, 114.16, 88524.59, 257.77, 4420.79, 7040.42, 349.33, 405.63, 2033.13, 8695.65, 21995.93, 12314.71, 1363.64, 15.46, 339.44, 4.87, 1827.41, 180.58, 11065.57, 795.76, 6084.51, 958.89, 4158.64, 0.66, 668.81, 720.34, 41379.31, 1079.68, 1633.39, 5258.03, 1379.36, 814.8, 279.48, 562.97, 81.87, 15192.93, 655.52, 75600.0, 86.64, 688.27, 5431.03, 2030.95, 56250.0, 29810.73, 6000.0, 456.19, 952.33, 490.6, 28.3, 4710.87, 513.34, 11039.72, 44158.88, 1006.5, 64.39, 1007.25, 0.02, 68.23, 1789.1, 4340.84, 78.98, 22689.08, 27364.86, 90.18, 12366.41, 26557.38, 81818.18, 147272.73, 8644.61, 11080.71, 382.65, 708.54, 288.3, 1259.13, 8100000.0, 508.16, 0.09, 6617.65, 11005.43, 0.34, 120895.52, 60902.26, 2491.54, 514.74, 494.26, 73.77, 357.27, 121.2, 6.3, 9.43, 201.94, 2459.51, 0.21, 187.7, 0.01, 424.91, 1252.06, 2838.79, 2197.11, 22090.91, 12.62, 239.2, 2.49, 2528.09, 478.35, 1115.7, 6075000.0, 1.07, 36.05, 547.25, 204.83, 50.14, 2887.36, 467307.69, 58.19, 881.46, 172.79, 336.68, 892.73, 1552.91, 2732.79, 61.62, 817.47, 6683.17, 8304.04, 79.92, 6730.77, 640.24, 423.96, 3997.46, 9884.94, 181.62, 428.34, 511.81, 2514.64, 53089.89, 57621.95, 35.95, 4725000.0, 270.14, 5130.29, 340.81, 6750.0, 1614.83, 59062.5, 70.1, 468.29, 724.36, 214.14, 107.15], 'operacion': ['compra', 'compra', 'compra', 'compra', 'compra', 'compra', 'compra', 'compra', 'compra', 'compra', 'compra', 'compra', 'compra', 'compra', 'compra', 'compra', 'compra', 'compra', 'compra', 'compra', 'compra', 'compra', 'compra', 'compra', 'compra', 'compra', 'compra', 'compra', 'compra', 'compra', 'compra', 'compra', 'compra', 'compra', 'compra', 'compra', 'compra', 'compra', 'compra', 'compra', 'compra', 'compra', 'compra', 'compra', 'compra', 'compra', 'compra', 'compra', 'compra', 'compra', 'compra', 'compra', 'compra', 'compra', 'compra', 'compra', 'compra', 'compra', 'compra', 'compra', 'compra', 'compra', 'compra', 'compra', 'compra', 'compra', 'compra', 'compra', 'compra', 'compra', 'compra', 'compra', 'compra', 'compra', 'compra', 'compra', 'compra', 'compra', 'compra', 'compra', 'compra', 'compra', 'compra', 'compra', 'compra', 'compra', 'compra', 'compra', 'compra', 'compra', 'compra', 'compra', 'compra', 'compra', 'compra', 'compra', 'compra', 'compra', 'compra', 'compra', 'compra', 'compra', 'compra', 'compra', 'compra', 'compra', 'compra', 'compra', 'compra', 'compra', 'compra', 'compra', 'compra', 'compra', 'compra', 'compra', 'compra', 'compra', 'compra', 'compra', 'compra', 'compra', 'compra', 'compra', 'compra', 'compra', 'compra', 'compra', 'compra', 'compra', 'compra', 'compra', 'compra', 'compra', 'compra', 'compra', 'compra', 'compra', 'compra', 'compra', 'compra', 'compra', 'compra', 'compra', 'compra', 'compra', 'compra', 'compra', 'compra', 'compra', 'compra', 'compra', 'compra', 'compra', 'compra', 'compra', 'compra', 'compra', 'compra', 'compra', 'compra', 'compra', 'compra', 'compra', 'compra', 'compra', 'compra', 'compra', 'compra', 'compra', 'compra', 'compra', 'compra', 'compra', 'compra', 'compra', 'compra', 'compra', 'compra', 'compra', 'compra', 'compra', 'compra', 'compra', 'compra', 'compra', 'compra', 'compra', 'compra', 'compra', 'compra', 'compra', 'compra', 'compra', 'compra', 'compra', 'compra', 'compra', 'compra', 'compra', 'compra', 'compra', 'compra', 'compra', 'compra', 'compra', 'compra', 'compra', 'compra', 'compra', 'compra', 'compra', 'compra', 'compra', 'compra', 'compra', 'compra', 'compra', 'compra', 'compra', 'compra', 'compra', 'compra', 'compra', 'compra', 'compra', 'compra', 'compra', 'compra', 'compra', 'compra', 'compra', 'compra', 'compra', 'compra', 'compra', 'compra', 'compra', 'compra', 'compra', 'compra', 'compra', 'compra', 'compra', 'compra', 'compra', 'compra', 'compra', 'compra', 'compra', 'compra', 'compra', 'compra', 'compra', 'compra', 'compra', 'compra', 'compra', 'compra', 'compra', 'compra', 'compra', 'compra', 'compra', 'compra', 'compra', 'compra', 'compra', 'compra', 'compra', 'compra', 'compra', 'compra', 'compra', 'compra', 'compra', 'compra', 'compra', 'compra', 'compra', 'compra', 'compra', 'compra', 'compra', 'compra', 'compra', 'compra', 'compra', 'compra', 'compra', 'compra', 'compra', 'compra', 'compra', 'compra', 'compra', 'compra', 'compra', 'compra', 'compra', 'compra', 'compra', 'compra', 'compra', 'compra', 'compra', 'compra', 'compra', 'compra', 'compra', 'compra', 'compra', 'compra', 'compra', 'compra', 'compra', 'compra', 'compra', 'compra', 'compra', 'compra', 'compra', 'compra', 'compra', 'compra', 'compra', 'compra', 'compra', 'compra', 'compra', 'compra', 'compra', 'compra', 'compra', 'compra', 'compra', 'compra', 'compra', 'compra', 'compra', 'compra', 'compra', 'compra', 'compra', 'compra', 'compra', 'compra', 'compra', 'compra', 'compra', 'compra', 'compra', 'compra', 'compra', 'compra', 'compra', 'compra', 'compra', 'compra', 'compra', 'compra', 'compra', 'compra', 'compra', 'compra', 'compra', 'compra', 'compra', 'compra', 'compra', 'compra', 'compra', 'compra', 'compra', 'compra', 'compra', 'compra', 'compra', 'compra', 'compra', 'compra', 'compra', 'compra', 'compra', 'compra', 'compra', 'compra', 'compra', 'compra', 'compra', 'compra', 'compra', 'compra', 'compra', 'compra', 'compra', 'compra', 'compra', 'compra', 'compra', 'compra', 'compra', 'compra', 'compra', 'compra', 'compra', 'compra', 'compra', 'compra', 'compra', 'compra', 'compra', 'compra', 'compra', 'compra', 'compra', 'compra', 'compra', 'compra', 'compra', 'compra', 'compra', 'compra', 'compra', 'compra', 'compra', 'compra', 'compra', 'compra', 'compra', 'compra', 'compra', 'compra', 'compra', 'compra', 'compra', 'compra', 'compra', 'compra', 'compra', 'compra', 'compra', 'compra', 'compra', 'compra', 'compra', 'compra', 'compra'], 'variacion': [0, 0, 0, 0, 0, 0, 0, 0, 0, 0, 0, 0, 0, 0, 0, 0, 0, 0, 0, 0, 0, 0, 0, 0, 0, 0, 0, 0, 0, 0, 0, 0, 0, 0, 0, 0, 0, 0, 0, 0, 0, 0, 0, 0, 0, 0, 0, 0, 0, 0, 0, 0, 0, 0, 0, 0, 0, 0, 0, 0, 0, 0, 0, 0, 0, 0, 0, 0, 0, 0, 0, 0, 0, 0, 0, 0, 0, 0, 0, 0, 0, 0, 0, 0, 0, 0, 0, 0, 0, 0, 0, 0, 0, 0, 0, 0, 0, 0, 0, 0, 0, 0, 0, 0, 0, 0, 0, 0, 0, 0, 0, 0, 0, 0, 0, 0, 0, 0, 0, 0, 0, 0, 0, 0, 0, 0, 0, 0, 0, 0, 0, 0, 0, 0, 0, 0, 0, 0, 0, 0, 0, 0, 0, 0, 0, 0, 0, 0, 0, 0, 0, 0, 0, 0, 0, 0, 0, 0, 0, 0, 0, 0, 0, 0, 0, 0, 0, 0, 0, 0, 0, 0, 0, 0, 0, 0, 0, 0, 0, 0, 0, 0, 0, 0, 0, 0, 0, 0, 0, 0, 0, 0, 0, 0, 0, 0, 0, 0, 0, 0, 0, 0, 0, 0, 0, 0, 0, 0, 0, 0, 0, 0, 0, 0, 0, 0, 0, 0, 0, 0, 0, 0, 0, 0, 0, 0, 0, 0, 0, 0, 0, 0, 0, 0, 0, 0, 0, 0, 0, 0, 0, 0, 0, 0, 0, 0, 0, 0, 0, 0, 0, 0, 0, 0, 0, 0, 0, 0, 0, 0, 0, 0, 0, 0, 0, 0, 0, 0, 0, 0, 0, 0, 0, 0, 0, 0, 0, 0, 0, 0, 0, 0, 0, 0, 0, 0, 0, 0, 0, 0, 0, 0, 0, 0, 0, 0, 0, 0, 0, 0, 0, 0, 0, 0, 0, 0, 0, 0, 0, 0, 0, 0, 0, 0, 0, 0, 0, 0, 0, 0, 0, 0, 0, 0, 0, 0, 0, 0, 0, 0, 0, 0, 0, 0, 0, 0, 0, 0, 0, 0, 0, 0, 0, 0, 0, 0, 0, 0, 0, 0, 0, 0, 0, 0, 0, 0, 0, 0, 0, 0, 0, 0, 0, 0, 0, 0, 0, 0, 0, 0, 0, 0, 0, 0, 0, 0, 0, 0, 0, 0, 0, 0, 0, 0, 0, 0, 0, 0, 0, 0, 0, 0, 0, 0, 0, 0, 0, 0, 0, 0, 0, 0, 0, 0, 0, 0, 0, 0, 0, 0, 0, 0, 0, 0, 0, 0, 0, 0, 0, 0, 0, 0, 0, 0, 0, 0, 0, 0, 0, 0, 0, 0, 0, 0, 0, 0, 0, 0, 0, 0, 0, 0, 0, 0, 0, 0, 0, 0], 'market_value': [2632.494483, 2632.499148, 1890.0, 2632.5003480000005, 2632.4877699999997, 2633.2055490000002, 2632.7790720000003, 2624.091114, 2632.4992629999997, 2632.519169, 2632.4956020000004, 2632.5, 2632.4815200000003, 2632.19312, 2631.8995900000004, 2632.4792460000003, 2632.485032, 2632.4441399999996, 2632.513316, 2632.5001500000003, 2632.619805, 2632.501416, 2632.4995040000003, 2632.5033940000003, 2632.4993449999997, 2632.501335, 2632.534232, 2632.522937, 2632.828146, 2632.48934, 2497.5110050000003, 2497.480038, 2497.51744, 2508.1192800000003, 2497.398255, 2497.49948, 2497.499922, 2497.5006879999996, 2497.507587, 2497.499725, 2497.5, 2497.499984, 2497.7427200000006, 2497.499811, 2497.501659, 2497.51332, 2439.5153459999997, 2497.503216, 2497.485487, 2497.508761, 2497.5, 2497.50486, 2497.4997550000003, 2497.500128, 2497.467397, 2497.50207, 2497.498688, 2497.500192, 2497.5397860000003, 2497.386725, 2294.998552, 2294.8924899999997, 2295.0, 2294.99751, 2294.999988, 2295.0034109999997, 2295.1630080000004, 2295.000051, 2294.993664, 2294.9988750000007, 2295.0002609999997, 2295.000018, 2295.20544, 2294.999966, 2294.998815, 2295.003776, 2294.990512, 2294.995272, 2294.9936700000003, 2295.00039, 2294.995465, 2294.986575, 2295.0069220000005, 2295.000036, 2295.000549, 2295.0034100000003, 2294.997837, 2294.999316, 2294.9999640000005, 2294.996192, 2159.998677, 2160.0007650000002, 2159.9998649999998, 2160.0, 2159.99961, 2160.000064, 2159.99022, 2159.9900700000003, 2160.0, 2160.0000959999998, 2160.0014899999996, 2160.558796, 2160.00005, 2157.2555939999997, 2160.001228, 2160.0031639999997, 2160.0033, 2159.999985, 2159.99784, 2160.0017599999996, 2159.999952, 2159.9972239999997, 2159.9937010000003, 2159.999721, 2159.98566, 2159.998317, 2159.998689, 2160.000101, 2160.002351, 2153.757396, 2025.009342, 2024.999856, 2024.994444, 2025.0097200000002, 2024.9999500000001, 2024.9994, 2024.996454, 2023.758275, 2025.0017590000002, 2024.9879300000002, 2024.99934, 2024.9969919999996, 2024.9931240000003, 2024.9377019999997, 2025.00045, 2024.9999999999998, 2025.0000189999998, 2025.000126, 2024.9996750000003, 2025.0345599999998, 2025.00143, 2024.9999699999998, 2025.0024800000003, 2025.0007239999998, 2025.0001840000002, 2024.9999999999998, 2025.00024, 2025.0006680000001, 2024.9277029999998, 2025.0000400000001, 1890.00012, 1884.705354, 1890.0014250000004, 1889.996829, 1891.8310099999999, 1890.1456800000003, 2042.25065, 1889.6397000000002, 1890.000035, 1890.0005849999998, 1889.990542, 1890.0, 1890.000086, 1890.000035, 1890.0085440000003, 1889.592215, 1889.9884440000003, 1889.998981, 1890.0226320000002, 1889.998803, 1890.019131, 1890.2789180000002, 1890.0049620000002, 1889.9829180000002, 1889.995275, 1890.0109060000002, 1890.132426, 1889.9793760000002, 1890.0004199999998, 1689.609985, 1687.5040000000001, 1687.5006750000002, 1687.49532, 1687.432857, 1687.5452439999997, 1687.413156, 1687.419688, 1687.5003900000002, 1687.498733, 1687.509843, 1687.4999899999996, 1687.3245060000004, 1687.4995679999997, 1687.4994080000001, 1687.501926, 1687.498, 1687.499688, 1687.5146960000002, 1687.4130279999997, 1687.5116160000002, 1687.5, 1687.5, 1687.5022949999998, 1687.4986199999998, 1687.4981249999998, 1687.4999490000002, 1687.5007800000003, 1687.5000400000001, 1687.5131460000002, 1552.501251, 1552.5083240000001, 1552.6049, 1552.5415849999997, 1552.49967, 1552.498922, 1552.501262, 1552.5, 1552.4656200000002, 1552.5005370000001, 1552.499994, 1552.5, 1552.50148, 1552.5107779999998, 1552.5, 1552.499823, 1552.50368, 1552.3846350000001, 1552.502072, 1552.185615, 1552.5006049999997, 1552.501796, 1552.500656, 1552.50008, 1552.5000000000002, 1552.5000920000002, 1545.39672, 1552.57206, 1552.4813199999999, 1552.499778, 1417.500049, 1417.5029520000003, 1416.9502380000001, 1417.50162, 1417.5030870000003, 1417.50016, 1417.5385620000002, 1417.500868, 1417.5040920000001, 1417.504674, 1417.5034770000002, 1417.501118, 1417.500469, 1417.4996879999999, 1417.499796, 1417.4837599999998, 1417.5011749999999, 1417.50676, 1417.496346, 1417.47633, 1417.498576, 1417.516864, 1417.5155280000001, 1417.49796, 1417.499997, 1417.494986, 1417.5001499999998, 1417.495946, 1417.5008000000003, 1215.000102, 1215.0047000000002, 1215.005308, 1215.0003150000002, 1214.9999619999999, 1214.94276, 1215.000315, 1214.9879070000002, 1214.9978540000002, 1214.999574, 1214.9986100000003, 1214.9984880000002, 1214.998273, 1214.999982, 1214.996952, 1215.000306, 1215.001226, 1215.0, 1215.001042, 1215.001863, 1214.9878320000003, 1215.0005999999998, 1214.997408, 1214.9996489999999, 1214.9987999999998, 1214.9978880000003, 1215.0003250000002, 1214.987514, 1215.000051, 1215.000162, 1080.000115, 1079.999264, 1079.9999979999998, 1080.0047459999998, 1079.998997, 1080.0004279999998, 1079.988628, 1079.989875, 1079.998656, 1079.99973, 1080.0001630000002, 1080.000067, 1080.0028800000002, 1080.2582240000002, 1079.9962480000002, 1080.822476, 1079.99931, 1079.994806, 1079.999632, 1080.005472, 1080.000525, 1079.997807, 1079.998808, 1081.713798, 1079.9943879999998, 1080.005762, 1079.999991, 1080.003904, 1079.997468, 1079.999362, 944.999536, 945.0050399999999, 945.0057240000002, 945.0014420000001, 945.009036, 945.0002460000001, 944.997632, 944.9999999999999, 944.947824, 944.9947099999999, 944.9992199999999, 945.001035, 944.9999999999999, 945.0001410000002, 945.0, 944.9975850000002, 944.997059, 944.99372, 944.8860600000002, 945.0005219999999, 945.007606, 945.000032, 945.0000319999999, 945.00285, 945.0327130000001, 945.0019500000001, 813.502526, 944.971854, 945.00262, 945.000868, 810.026778, 810.0001560000002, 809.9998559999999, 809.9606880000001, 809.999855, 810.00009, 809.9999819999998, 810.0000150000002, 809.9999570000001, 809.9999009999999, 809.99352, 810.002928, 810.00768, 809.998329, 810.0, 810.0070400000001, 823.0427459999999, 810.00036, 809.999648, 803.8650940000002, 809.999984, 810.000058, 809.999654, 809.994864, 809.993288, 809.9577149999999, 810.0025440000001, 809.99172, 810.2348099999999, 810.017197, 607.4961020000001, 607.4989700000001, 609.909111, 607.4910500000001, 570.7801489999999, 607.493827, 607.499512, 607.5010599999999, 607.500915, 607.500025, 607.2617799999999, 607.4962400000001, 608.059743, 607.500027, 607.5045, 607.49865, 607.5, 606.684864, 607.4244749999999, 607.5022250000001, 607.5052970000002, 607.461142, 607.500544, 607.499997, 607.457048, 607.502232, 607.495082, 607.505392, 607.502765, 607.498392, 472.499391, 472.48983599999997, 472.49766, 472.500119, 472.4998760000001, 472.48704, 472.50005400000003, 472.49712, 472.50342, 472.499772, 472.50013200000006, 472.50259200000005, 472.501854, 472.502992, 472.50085599999994, 472.500021, 472.4999899999999, 472.53399, 472.5, 472.501874, 472.499709, 472.498984, 472.50000000000006, 472.49925799999994, 472.5, 472.50904999999995, 472.50460999999996, 472.500028, 472.49991, 472.49935500000004], 'cluster': ['1', '1', '1', '1', '1', '1', '1', '1', '1', '1', '1', '1', '1', '1', '1', '1', '1', '1', '1', '1', '1', '1', '1', '1', '1', '1', '1', '1', '1', '1', '1', '1', '1', '1', '1', '1', '1', '1', '1', '1', '1', '1', '1', '1', '1', '1', '1', '1', '1', '1', '1', '1', '1', '1', '1', '1', '1', '1', '1', '1', '1', '1', '1', '1', '1', '1', '1', '1', '1', '1', '1', '1', '1', '1', '1', '1', '1', '1', '1', '1', '1', '1', '1', '1', '1', '1', '1', '1', '1', '1', '1', '1', '1', '1', '1', '1', '1', '1', '1', '1', '1', '1', '1', '1', '1', '1', '1', '1', '1', '1', '1', '1', '1', '1', '1', '1', '1', '1', '1', '1', '1', '1', '1', '1', '1', '1', '1', '1', '1', '1', '1', '1', '1', '1', '1', '1', '1', '1', '1', '1', '1', '1', '1', '1', '1', '1', '1', '1', '1', '1', '1', '1', '1', '1', '1', '1', '1', '1', '1', '1', '1', '1', '1', '1', '1', '1', '1', '1', '1', '1', '1', '1', '1', '1', '1', '1', '1', '1', '1', '1', '1', '1', '1', '1', '1', '1', '1', '1', '1', '1', '1', '1', '1', '1', '1', '1', '1', '1', '1', '1', '1', '1', '1', '1', '1', '1', '1', '1', '1', '1', '1', '1', '1', '1', '1', '1', '1', '1', '1', '1', '1', '1', '1', '1', '1', '1', '1', '1', '1', '1', '1', '1', '1', '1', '1', '1', '1', '1', '1', '1', '1', '1', '1', '1', '1', '1', '1', '1', '1', '1', '1', '1', '1', '1', '1', '1', '1', '1', '1', '1', '1', '1', '1', '1', '1', '1', '1', '1', '1', '1', '1', '1', '1', '1', '1', '1', '1', '1', '1', '1', '1', '1', '1', '1', '1', '1', '1', '1', '1', '1', '1', '1', '1', '1', '1', '1', '1', '1', '1', '1', '1', '1', '1', '1', '1', '1', '1', '1', '1', '1', '1', '1', '1', '1', '1', '1', '1', '1', '1', '1', '1', '1', '1', '1', '1', '1', '1', '1', '1', '1', '1', '1', '1', '1', '1', '1', '1', '1', '1', '1', '1', '1', '1', '1', '1', '1', '1', '1', '1', '1', '1', '1', '1', '1', '1', '1', '1', '1', '1', '1', '1', '1', '1', '1', '1', '1', '1', '1', '1', '1', '1', '1', '1', '1', '1', '1', '1', '1', '1', '1', '1', '1', '1', '1', '1', '1', '1', '1', '1', '1', '1', '1', '1', '1', '1', '1', '1', '1', '1', '1', '1', '1', '1', '1', '1', '1', '1', '1', '1', '1', '1', '1', '1', '1', '1', '1', '1', '1', '1', '1', '1', '1', '1', '1', '1', '1', '1', '1', '1', '1', '1', '1', '1', '1', '1', '1', '1', '1', '1', '1', '1', '1', '1', '1', '1', '1', '1', '1'], 'roi': [0, 0, 0, 0, 0, 0, 0, 0, 0, 0, 0, 0, 0, 0, 0, 0, 0, 0, 0, 0, 0, 0, 0, 0, 0, 0, 0, 0, 0, 0, 0, 0, 0, 0, 0, 0, 0, 0, 0, 0, 0, 0, 0, 0, 0, 0, 0, 0, 0, 0, 0, 0, 0, 0, 0, 0, 0, 0, 0, 0, 0, 0, 0, 0, 0, 0, 0, 0, 0, 0, 0, 0, 0, 0, 0, 0, 0, 0, 0, 0, 0, 0, 0, 0, 0, 0, 0, 0, 0, 0, 0, 0, 0, 0, 0, 0, 0, 0, 0, 0, 0, 0, 0, 0, 0, 0, 0, 0, 0, 0, 0, 0, 0, 0, 0, 0, 0, 0, 0, 0, 0, 0, 0, 0, 0, 0, 0, 0, 0, 0, 0, 0, 0, 0, 0, 0, 0, 0, 0, 0, 0, 0, 0, 0, 0, 0, 0, 0, 0, 0, 0, 0, 0, 0, 0, 0, 0, 0, 0, 0, 0, 0, 0, 0, 0, 0, 0, 0, 0, 0, 0, 0, 0, 0, 0, 0, 0, 0, 0, 0, 0, 0, 0, 0, 0, 0, 0, 0, 0, 0, 0, 0, 0, 0, 0, 0, 0, 0, 0, 0, 0, 0, 0, 0, 0, 0, 0, 0, 0, 0, 0, 0, 0, 0, 0, 0, 0, 0, 0, 0, 0, 0, 0, 0, 0, 0, 0, 0, 0, 0, 0, 0, 0, 0, 0, 0, 0, 0, 0, 0, 0, 0, 0, 0, 0, 0, 0, 0, 0, 0, 0, 0, 0, 0, 0, 0, 0, 0, 0, 0, 0, 0, 0, 0, 0, 0, 0, 0, 0, 0, 0, 0, 0, 0, 0, 0, 0, 0, 0, 0, 0, 0, 0, 0, 0, 0, 0, 0, 0, 0, 0, 0, 0, 0, 0, 0, 0, 0, 0, 0, 0, 0, 0, 0, 0, 0, 0, 0, 0, 0, 0, 0, 0, 0, 0, 0, 0, 0, 0, 0, 0, 0, 0, 0, 0, 0, 0, 0, 0, 0, 0, 0, 0, 0, 0, 0, 0, 0, 0, 0, 0, 0, 0, 0, 0, 0, 0, 0, 0, 0, 0, 0, 0, 0, 0, 0, 0, 0, 0, 0, 0, 0, 0, 0, 0, 0, 0, 0, 0, 0, 0, 0, 0, 0, 0, 0, 0, 0, 0, 0, 0, 0, 0, 0, 0, 0, 0, 0, 0, 0, 0, 0, 0, 0, 0, 0, 0, 0, 0, 0, 0, 0, 0, 0, 0, 0, 0, 0, 0, 0, 0, 0, 0, 0, 0, 0, 0, 0, 0, 0, 0, 0, 0, 0, 0, 0, 0, 0, 0, 0, 0, 0, 0, 0, 0, 0, 0, 0, 0, 0, 0, 0, 0, 0, 0, 0, 0, 0]}, '2': {'name': ['DOGE', 'AVAX', 'MATIC', 'SHIB', 'BUSD', 'ATOM', 'CRO', 'UST', 'WBTC', 'DAI', 'NEAR', 'LINK', 'UNI', 'LTC', 'ALGO', 'FTM', 'TRX', 'BCH', 'FTT', 'XLM', 'ICP', 'MANA', 'HBAR', 'VET', 'BTCB', 'THETA', 'AXS', 'FIL', 'ETC', 'KLAY', 'SAND', 'LEO', 'XMR', 'EGLD', 'XTZ', 'HNT', 'ONE', 'MIOTA', 'CAKE', 'AAVE'], 'rank': ['11', '12', '13', '14', '15', '16', '17', '18', '19', '20', '21', '22', '23', '24', '25', '26', '27', '28', '29', '30', '31', '32', '33', '34', '35', '36', '37', '38', '39', '40', '41', '42', '43', '44', '45', '46', '47', '48', '49', '50'], 'price': [0.1553, 79.0686, 1.9605, 0.0001, 1.0002, 39.0583, 0.43529999999999996, 1.0043, 40832.6703, 0.9998, 15.2298, 20.1952, 14.4755, 130.3651, 1.1679, 2.7202, 0.0678, 358.1085, 45.2261, 0.2317, 24.8691, 2.6296000000000004, 0.2601, 0.0675, 40721.9266, 4.1007, 69.0437, 26.1416, 29.1771, 1.4182, 3.9328000000000003, 3.7077, 188.4289, 166.2486, 3.7051000000000003, 28.310299999999998, 0.2627, 1.0158, 10.270199999999999, 198.5962], 'market_cap': [20591006964.87, 19320350213.5, 14590845223.36, 14514579019.83, 14320019130.9, 11185104250.39, 10993589881.41, 10879131674.43, 10770972995.3, 9758623588.79, 9409739212.17, 9431322982.14, 9080472478.57, 9054919065.6, 7625251216.58, 6922701236.54, 6896971088.65, 6790016346.4, 6262566518.34, 5745122010.61, 4947349082.03, 4797494734.02, 4703313344.56, 4333708763.6, 4279734397.12, 4100619457.29, 4205275049.09, 3951615623.86, 3863533150.94, 3691584809.33, 3622337835.23, 3536926820.07, 3404168148.66, 3361025211.3, 3241785770.91, 3078883582.12, 3044688772.52, 2823178058.96, 2672371144.21, 2677941309.79], 'amount': [425949.77, 836.62, 24100.99, 472500000.0, 47240.55, 967.78, 86836.66, 37638.16, 0.93, 28355.67, 1861.48, 1403.8, 1958.48, 217.47, 24274.34, 6948.02, 278761.06, 52.78, 417.9, 81571.0, 759.98, 7187.4, 72664.36, 280000.0, 0.23, 2304.48, 136.87, 361.49, 323.88, 6663.38, 2402.87, 2548.75, 50.15, 56.84, 2550.54, 333.8, 35972.59, 9303.01, 920.14, 47.58], 'operacion': ['compra', 'compra', 'compra', 'compra', 'compra', 'compra', 'compra', 'compra', 'compra', 'compra', 'compra', 'compra', 'compra', 'compra', 'compra', 'compra', 'compra', 'compra', 'compra', 'compra', 'compra', 'compra', 'compra', 'compra', 'compra', 'compra', 'compra', 'compra', 'compra', 'compra', 'compra', 'compra', 'compra', 'compra', 'compra', 'compra', 'compra', 'compra', 'compra', 'compra'], 'variacion': [0, 0, 0, 0, 0, 0, 0, 0, 0, 0, 0, 0, 0, 0, 0, 0, 0, 0, 0, 0, 0, 0, 0, 0, 0, 0, 0, 0, 0, 0, 0, 0, 0, 0, 0, 0, 0, 0, 0, 0], 'market_value': [66149.999281, 66150.372132, 47249.990895, 47250.0, 47249.99811, 37799.841574, 37799.998098, 37800.004088, 37974.383379, 28349.998865999998, 28349.968104, 28350.02176, 28349.97724, 28350.498297000002, 28350.001686, 18900.004004000002, 18899.999868, 18900.96663, 18899.98719, 18900.0007, 18900.018618000002, 18899.98704, 18900.000036, 18900.0, 9366.043118, 9449.981136, 9450.011219, 9449.926984, 9449.879148, 9450.005516, 9450.007136, 9450.000375, 9449.709335, 9449.570424000001, 9450.005754, 9449.97814, 9449.999392999998, 9449.997558000001, 9450.021827999999, 9449.207196], 'cluster': ['2', '2', '2', '2', '2', '2', '2', '2', '2', '2', '2', '2', '2', '2', '2', '2', '2', '2', '2', '2', '2', '2', '2', '2', '2', '2', '2', '2', '2', '2', '2', '2', '2', '2', '2', '2', '2', '2', '2', '2'], 'roi': [0, 0, 0, 0, 0, 0, 0, 0, 0, 0, 0, 0, 0, 0, 0, 0, 0, 0, 0, 0, 0, 0, 0, 0, 0, 0, 0, 0, 0, 0, 0, 0, 0, 0, 0, 0, 0, 0, 0, 0]}, '3': {'name': ['BTC', 'ETH', 'USDT', 'BNB', 'USDC', 'ADA', 'SOL', 'XRP', 'LUNA', 'DOT'], 'rank': ['1', '2', '3', '4', '5', '6', '7', '8', '9', '10'], 'price': [40680.42, 3001.1201, 1.0004, 440.0055, 1.0005, 1.2582, 127.2054, 0.7195, 76.9918, 22.985], 'market_cap': [770304579439.02, 357862901301.65, 78344671135.26, 72652270853.79, 46367978526.68, 42195174137.75, 40002152189.38, 34289841109.59, 27485414822.36, 22699398968.95], 'amount': [2.89, 36.44, 101209.52, 211.7, 85007.5, 61158.8, 541.25, 84433.63, 683.84, 1938.22], 'operacion': ['compra', 'compra', 'compra', 'compra', 'compra', 'compra', 'compra', 'compra', 'compra', 'compra'], 'variacion': [0, 0, 0, 0, 0, 0, 0, 0, 0, 0], 'market_value': [117566.4138, 109360.816444, 101250.003808, 93149.16434999999, 85050.00374999999, 76950.00216, 68849.92275, 60749.996785, 52650.072512, 44549.9867], 'cluster': ['3', '3', '3', '3', '3', '3', '3', '3', '3', '3'], 'roi': [0, 0, 0, 0, 0, 0, 0, 0, 0, 0]}}, '2022-01-21': {'1': {'name': [], 'rank': [], 'price': [], 'market_cap': [], 'amount': [], 'operacion': [], 'variacion': [], 'market_value': [], 'cluster': [], 'roi': []}, '2': {'name': ['DOGE', 'AVAX', 'BUSD', 'MATIC', 'SHIB', 'UST', 'ATOM', 'WBTC', 'DAI', 'CRO', 'LINK', 'NEAR', 'UNI', 'LTC', 'ALGO', 'TRX', 'BCH', 'FTM', 'FTT', 'XLM', 'ICP', 'HBAR', 'MANA', 'BTCB', 'VET', 'AXS', 'ETC', 'THETA', 'LEO', 'FIL', 'KLAY', 'XMR', 'SAND', 'XTZ', 'EGLD', 'HNT', 'ONE', 'BTT', 'MIOTA', 'CAKE'], 'rank': ['11', '12', '13', '14', '15', '16', '17', '18', '19', '20', '21', '22', '23', '24', '25', '26', '27', '28', '29', '30', '31', '32', '33', '34', '35', '36', '37', '38', '39', '40', '41', '42', '43', '44', '45', '46', '47', '48', '49', '50'], 'price': [0.1427, 65.9227, 1.0012, 1.6991, 0.0001, 0.9998, 34.4181, 36460.804, 1.0004, 0.3634, 17.4263, 13.2157, 12.6564, 114.39200000000001, 1.0324, 0.061000000000000006, 315.2088, 2.2788000000000004, 38.455400000000004, 0.2031, 24.1259, 0.2345, 2.2101, 36400.9938, 0.057300000000000004, 58.0972, 25.8805, 3.3963, 3.5205, 21.8725, 1.266, 172.0472, 3.3369000000000004, 3.3317, 137.7623, 24.1359, 0.2165, 0.0026, 0.8586, 8.9121], 'market_cap': [18924184093.52, 16108748580.43, 14299148779.33, 12645400138.08, 12204919394.69, 10924946188.32, 9856286190.57, 9617748042.77, 9594506414.58, 9178597107.98, 8138196500.17, 8172641291.5, 7939416090.21, 7946260522.47, 6741159683.8, 6201428313.77, 5976964895.64, 5799381715.2, 5325017627.28, 5034510786.53, 4799495981.15, 4240109371.84, 4032118844.13, 3825619237.76, 3678710992.59, 3538550197.99, 3427558762.75, 3396224885.74, 3358264444.04, 3314373471.07, 3295857684.8, 3108300924.52, 3073420983.72, 2915409904.81, 2785770934.5, 2626783214.53, 2509350605.62, 2454268979.75, 2386099457.82, 2324876942.23], 'amount': [422552.77, 784.01, 51622.29, 25348.83, 430701999.75, 34463.05, 1001.11, 0.95, 34442.38, 94816.07, 1482.94, 1955.41, 2041.82, 225.91, 25031.11, 278761.06, 54.66, 7560.15, 448.0, 84825.6, 714.09, 72664.36, 7795.16, 0.24, 150332.28999999998, 148.27, 332.84, 2536.3, 2446.82, 393.83, 6804.14, 50.07, 2581.45, 2550.54, 62.53, 356.9, 39787.71, 3313092.3100000005, 10032.66, 966.56], 'operacion': ['venta', 'venta', 'compra', 'compra', 'venta', 'venta', 'compra', 'compra', 'compra', 'compra', 'compra', 'compra', 'compra', 'compra', 'compra', '', 'compra', 'compra', 'compra', 'compra', 'venta', '', 'compra', 'compra', 'venta', 'compra', 'compra', 'compra', 'venta', 'compra', 'compra', 'venta', 'compra', '', 'compra', 'compra', 'compra', 'venta', 'compra', 'compra'], 'variacion': [-3397.000000000012, -52.61000000000003, 4381.739999999998, 1247.8400000000001, -41798000.250000015, -3175.1099999999988, 33.33000000000004, 0.019999999999999907, 6086.709999999999, 7979.4100000000035, 79.1400000000001, 93.93000000000006, 83.33999999999992, 8.439999999999998, 756.7700000000004, 0, 1.8799999999999955, 612.1299999999992, 30.100000000000023, 3254.600000000006, -45.889999999999944, 0, 607.7600000000002, 0.009999999999999981, -129667.71, 11.400000000000006, 8.95999999999998, 231.82000000000016, -101.92999999999975, 32.339999999999975, 140.76000000000022, -0.08000000000000038, 178.57999999999993, 0, 5.689999999999998, 23.099999999999966, 3815.1200000000026, -15586907.69, 729.6499999999996, 46.41999999999996], 'market_value': [60783.032179, 55152.24927400001, 47297.23866000001, 40949.992109000006, 47250.0, 37630.632368000006, 33309.148818, 33908.547719999995, 28367.012268, 31556.442244, 24463.039940000002, 24600.761236, 24787.306271999998, 24876.828240000003, 25060.828616, 17004.42466, 16636.720464, 15833.147976000004, 16070.51166, 16567.0701, 18335.201482, 17039.792419999998, 15884.87274, 8372.228573999999, 16044.000000000002, 7951.763764, 8382.17634, 7826.705424000001, 8972.874375000001, 7906.690025, 8435.83908, 8628.16708, 8018.1369030000005, 8497.634118, 7830.409132000001, 8056.56342, 7788.065734999999, 49140.0, 7987.564386, 8200.379694000001], 'cluster': ['2', '2', '2', '2', '2', '2', '2', '2', '2', '2', '2', '2', '2', '2', '2', '2', '2', '2', '2', '2', '2', '2', '2', '2', '2', '2', '2', '2', '2', '2', '2', '2', '2', '2', '2', '2', '2', '2', '2', '2'], 'roi': [-0.08113329040566641, -0.1662594253597508, 0.0009998000399922269, -0.1333333333333333, 0.0, -0.0044807328487502796, -0.11880189357959758, -0.10706785198909718, 0.000600120024004891, -0.1651734436021134, -0.13710683726826167, -0.13224730462645606, -0.1256675071672827, -0.1225258907483674, -0.11602020720952144, -0.10029498525073743, -0.11979525758254816, -0.1622674803323284, -0.14970780146862095, -0.12343547690979717, -0.029884475111684905, -0.09842368319876982, -0.1595299665348342, -0.10610826060474265, -0.15111111111111097, -0.15854451600942587, -0.11298586905484098, -0.17177555051576554, -0.050489521805971216, -0.16330676010649692, -0.10731913693414186, -0.08693836242741959, -0.15152054515866553, -0.10078000593776149, -0.17134760834076201, -0.14745163421087015, -0.17586600685192222, 25.0, -0.15475487300649737, -0.13223695741076102]}, '3': {'name': ['BTC', 'ETH', 'USDT', 'BNB', 'USDC', 'ADA', 'SOL', 'XRP', 'LUNA', 'DOT'], 'rank': ['1', '2', '3', '4', '5', '6', '7', '8', '9', '10'], 'price': [36457.318199999994, 2557.9317, 1.0003, 383.07399999999996, 1.0005, 1.1233, 111.9662, 0.6358, 64.8369, 19.6464], 'market_cap': [690368973093.33, 305050189406.67, 78288391849.61, 63251925838.24, 42797813923.9, 37673165251.46, 35215581863.4, 30348183253.27, 23067562969.77, 19402273903.8], 'amount': [2.89, 38.6, 91392.67, 219.56, 76754.5, 61158.8, 555.22, 86272.5, 733.2, 2047.44], 'operacion': ['', 'compra', 'venta', 'compra', 'venta', '', 'compra', 'compra', 'compra', 'compra'], 'variacion': [0, 2.1600000000000037, -9816.850000000011, 7.860000000000014, -8252.999999999998, 0, 13.970000000000027, 1838.8699999999953, 49.360000000000014, 109.22000000000003], 'market_value': [105361.64959799999, 93211.031148, 101239.882856, 81096.76579999998, 85050.00374999999, 68699.68004, 60601.70575, 53682.90195400001, 44338.065696000005, 38079.045408], 'cluster': ['3', '3', '3', '3', '3', '3', '3', '3', '3', '3'], 'roi': [-0.10381165681180293, -0.1476743299943245, -9.996001599354987e-05, -0.12938815537533066, 0.0, -0.10721665871880459, -0.11979994559979368, -0.11633078526754681, -0.15787265656862148, -0.14525125081574952]}}}\n"
          ]
        }
      ]
    },
    {
      "cell_type": "markdown",
      "source": [
        "Creo los directorios para los saves"
      ],
      "metadata": {
        "id": "z8vs5RT8ljfC"
      }
    },
    {
      "cell_type": "code",
      "source": [
        "from google.colab import drive\n",
        "drive.mount('/content/drive')\n",
        "# %cd /content/drive/MyDrive/LOTTs/\n",
        "%cd /content/drive/MyDrive/DiPa_Araujo/LOTTs"
      ],
      "metadata": {
        "colab": {
          "base_uri": "https://localhost:8080/"
        },
        "id": "5jRhygmZZa2N",
        "outputId": "a60f7998-acc6-4bb4-8a24-bebefe0ceb8f"
      },
      "execution_count": null,
      "outputs": [
        {
          "output_type": "stream",
          "name": "stdout",
          "text": [
            "Drive already mounted at /content/drive; to attempt to forcibly remount, call drive.mount(\"/content/drive\", force_remount=True).\n",
            "/content/drive/.shortcut-targets-by-id/1OrAJmAeu5caG3w3b1Z-63AMl_RUl-AYY/LOTTs\n"
          ]
        }
      ]
    },
    {
      "cell_type": "code",
      "source": [
        "import os\n",
        "\n",
        "Global_metrics, cluster_metrics = save_Metrics(historical_clusters)\n",
        "\n",
        "#Carpeta CLUESTERS\n",
        "dirName = 'Clusters'\n",
        "print(dirName)\n",
        "if not os.path.exists(dirName):\n",
        "    os.mkdir(dirName)\n",
        "print('\\t/Metricas_Globales.csv')\n",
        "Global_metrics.to_csv(dirName+'/Metricas_Globales.csv')\n",
        "\n",
        "#Carpeta de cada Cluster\n",
        "for i in range(1,4):\n",
        "  subdir_name = 'Cluster' + str(i)\n",
        "  #print('\\t/'+subdir_name)\n",
        "  if not os.path.exists(dirName+'/'+subdir_name):\n",
        "      os.mkdir(dirName+'/'+subdir_name)\n",
        "  \n",
        "  #Save de metricas por cluster\n",
        "  #print(f'\\t\\t/Metricas_cluster{i}.csv')\n",
        "  cluster_metrics[i-1].to_csv(f'{dirName}/{subdir_name}/Metricas_cluster{i}.csv')\n",
        "\n",
        "\n",
        "  # print('\\t\\t/Fechas')\n",
        "  if not os.path.exists(dirName+'/'+subdir_name+'/Fechas'):\n",
        "      os.mkdir(dirName+'/'+subdir_name+'/Fechas')\n",
        "  \n",
        "  # AGREGAR SAVE DF TOKENS\n",
        "\n",
        "  for fecha in data_fecha_cluster.keys():\n",
        "    if (str(i) == '1' and fecha.split('-')[2] != '05'):\n",
        "        continue  \n",
        "    df = pd.DataFrame.from_dict(data_fecha_cluster[fecha][str(i)])\n",
        "    df.to_csv(f'{dirName}/{subdir_name}/Fechas/{fecha}.csv')\n",
        "  "
      ],
      "metadata": {
        "colab": {
          "base_uri": "https://localhost:8080/"
        },
        "id": "WwNXp1kLIg2w",
        "outputId": "5972ecdb-e029-4e75-e90f-ff0589510dd1"
      },
      "execution_count": null,
      "outputs": [
        {
          "output_type": "stream",
          "name": "stdout",
          "text": [
            "Clusters\n",
            "\t/Metricas_Globales.csv\n"
          ]
        }
      ]
    },
    {
      "cell_type": "code",
      "source": [
        "%pwd"
      ],
      "metadata": {
        "colab": {
          "base_uri": "https://localhost:8080/",
          "height": 35
        },
        "id": "t5Z_mMX-YBNK",
        "outputId": "caafeb12-c5ed-4200-9a3d-964c9408bda8"
      },
      "execution_count": null,
      "outputs": [
        {
          "output_type": "execute_result",
          "data": {
            "text/plain": [
              "'/content'"
            ],
            "application/vnd.google.colaboratory.intrinsic+json": {
              "type": "string"
            }
          },
          "metadata": {},
          "execution_count": 25
        }
      ]
    },
    {
      "cell_type": "markdown",
      "source": [
        "# Basurero"
      ],
      "metadata": {
        "id": "EF1wkJ6B0vOM"
      }
    },
    {
      "cell_type": "code",
      "source": [
        "# calculo de porcentajes fijos de fondo para cluster 1\n",
        "asig_fondos = {}\n",
        "\n",
        "x = [0.113, 0.106, 0.1, 0.093, 0.086, 0.08, 0.073, 0.067, 0.06, 0.053, 0.047, 0.04, 0.034, 0.027, 0.02]\n",
        "p = list(np.concatenate([[round(i/29, 6)]*30 for i in x]))\n",
        "\n",
        "index = [str(i) for i in range(51,501)]\n",
        "\n",
        "for i,p in zip(index, p):\n",
        "  asig_fondos[i] = p\n",
        "\n",
        "print(asig_fondos)\n",
        "\n",
        "sum = 0\n",
        "for i in asig_fondos.values():\n",
        "  sum += i\n",
        "print(sum)"
      ],
      "metadata": {
        "colab": {
          "base_uri": "https://localhost:8080/"
        },
        "id": "orJIXDrm-7jg",
        "outputId": "fe097efb-3d43-4d67-c93d-555735c0994d"
      },
      "execution_count": null,
      "outputs": [
        {
          "output_type": "stream",
          "name": "stdout",
          "text": [
            "{'51': 0.003897, '52': 0.003897, '53': 0.003897, '54': 0.003897, '55': 0.003897, '56': 0.003897, '57': 0.003897, '58': 0.003897, '59': 0.003897, '60': 0.003897, '61': 0.003897, '62': 0.003897, '63': 0.003897, '64': 0.003897, '65': 0.003897, '66': 0.003897, '67': 0.003897, '68': 0.003897, '69': 0.003897, '70': 0.003897, '71': 0.003897, '72': 0.003897, '73': 0.003897, '74': 0.003897, '75': 0.003897, '76': 0.003897, '77': 0.003897, '78': 0.003897, '79': 0.003897, '80': 0.003897, '81': 0.003655, '82': 0.003655, '83': 0.003655, '84': 0.003655, '85': 0.003655, '86': 0.003655, '87': 0.003655, '88': 0.003655, '89': 0.003655, '90': 0.003655, '91': 0.003655, '92': 0.003655, '93': 0.003655, '94': 0.003655, '95': 0.003655, '96': 0.003655, '97': 0.003655, '98': 0.003655, '99': 0.003655, '100': 0.003655, '101': 0.003655, '102': 0.003655, '103': 0.003655, '104': 0.003655, '105': 0.003655, '106': 0.003655, '107': 0.003655, '108': 0.003655, '109': 0.003655, '110': 0.003655, '111': 0.003448, '112': 0.003448, '113': 0.003448, '114': 0.003448, '115': 0.003448, '116': 0.003448, '117': 0.003448, '118': 0.003448, '119': 0.003448, '120': 0.003448, '121': 0.003448, '122': 0.003448, '123': 0.003448, '124': 0.003448, '125': 0.003448, '126': 0.003448, '127': 0.003448, '128': 0.003448, '129': 0.003448, '130': 0.003448, '131': 0.003448, '132': 0.003448, '133': 0.003448, '134': 0.003448, '135': 0.003448, '136': 0.003448, '137': 0.003448, '138': 0.003448, '139': 0.003448, '140': 0.003448, '141': 0.003207, '142': 0.003207, '143': 0.003207, '144': 0.003207, '145': 0.003207, '146': 0.003207, '147': 0.003207, '148': 0.003207, '149': 0.003207, '150': 0.003207, '151': 0.003207, '152': 0.003207, '153': 0.003207, '154': 0.003207, '155': 0.003207, '156': 0.003207, '157': 0.003207, '158': 0.003207, '159': 0.003207, '160': 0.003207, '161': 0.003207, '162': 0.003207, '163': 0.003207, '164': 0.003207, '165': 0.003207, '166': 0.003207, '167': 0.003207, '168': 0.003207, '169': 0.003207, '170': 0.003207, '171': 0.002966, '172': 0.002966, '173': 0.002966, '174': 0.002966, '175': 0.002966, '176': 0.002966, '177': 0.002966, '178': 0.002966, '179': 0.002966, '180': 0.002966, '181': 0.002966, '182': 0.002966, '183': 0.002966, '184': 0.002966, '185': 0.002966, '186': 0.002966, '187': 0.002966, '188': 0.002966, '189': 0.002966, '190': 0.002966, '191': 0.002966, '192': 0.002966, '193': 0.002966, '194': 0.002966, '195': 0.002966, '196': 0.002966, '197': 0.002966, '198': 0.002966, '199': 0.002966, '200': 0.002966, '201': 0.002759, '202': 0.002759, '203': 0.002759, '204': 0.002759, '205': 0.002759, '206': 0.002759, '207': 0.002759, '208': 0.002759, '209': 0.002759, '210': 0.002759, '211': 0.002759, '212': 0.002759, '213': 0.002759, '214': 0.002759, '215': 0.002759, '216': 0.002759, '217': 0.002759, '218': 0.002759, '219': 0.002759, '220': 0.002759, '221': 0.002759, '222': 0.002759, '223': 0.002759, '224': 0.002759, '225': 0.002759, '226': 0.002759, '227': 0.002759, '228': 0.002759, '229': 0.002759, '230': 0.002759, '231': 0.002517, '232': 0.002517, '233': 0.002517, '234': 0.002517, '235': 0.002517, '236': 0.002517, '237': 0.002517, '238': 0.002517, '239': 0.002517, '240': 0.002517, '241': 0.002517, '242': 0.002517, '243': 0.002517, '244': 0.002517, '245': 0.002517, '246': 0.002517, '247': 0.002517, '248': 0.002517, '249': 0.002517, '250': 0.002517, '251': 0.002517, '252': 0.002517, '253': 0.002517, '254': 0.002517, '255': 0.002517, '256': 0.002517, '257': 0.002517, '258': 0.002517, '259': 0.002517, '260': 0.002517, '261': 0.00231, '262': 0.00231, '263': 0.00231, '264': 0.00231, '265': 0.00231, '266': 0.00231, '267': 0.00231, '268': 0.00231, '269': 0.00231, '270': 0.00231, '271': 0.00231, '272': 0.00231, '273': 0.00231, '274': 0.00231, '275': 0.00231, '276': 0.00231, '277': 0.00231, '278': 0.00231, '279': 0.00231, '280': 0.00231, '281': 0.00231, '282': 0.00231, '283': 0.00231, '284': 0.00231, '285': 0.00231, '286': 0.00231, '287': 0.00231, '288': 0.00231, '289': 0.00231, '290': 0.00231, '291': 0.002069, '292': 0.002069, '293': 0.002069, '294': 0.002069, '295': 0.002069, '296': 0.002069, '297': 0.002069, '298': 0.002069, '299': 0.002069, '300': 0.002069, '301': 0.002069, '302': 0.002069, '303': 0.002069, '304': 0.002069, '305': 0.002069, '306': 0.002069, '307': 0.002069, '308': 0.002069, '309': 0.002069, '310': 0.002069, '311': 0.002069, '312': 0.002069, '313': 0.002069, '314': 0.002069, '315': 0.002069, '316': 0.002069, '317': 0.002069, '318': 0.002069, '319': 0.002069, '320': 0.002069, '321': 0.001828, '322': 0.001828, '323': 0.001828, '324': 0.001828, '325': 0.001828, '326': 0.001828, '327': 0.001828, '328': 0.001828, '329': 0.001828, '330': 0.001828, '331': 0.001828, '332': 0.001828, '333': 0.001828, '334': 0.001828, '335': 0.001828, '336': 0.001828, '337': 0.001828, '338': 0.001828, '339': 0.001828, '340': 0.001828, '341': 0.001828, '342': 0.001828, '343': 0.001828, '344': 0.001828, '345': 0.001828, '346': 0.001828, '347': 0.001828, '348': 0.001828, '349': 0.001828, '350': 0.001828, '351': 0.001621, '352': 0.001621, '353': 0.001621, '354': 0.001621, '355': 0.001621, '356': 0.001621, '357': 0.001621, '358': 0.001621, '359': 0.001621, '360': 0.001621, '361': 0.001621, '362': 0.001621, '363': 0.001621, '364': 0.001621, '365': 0.001621, '366': 0.001621, '367': 0.001621, '368': 0.001621, '369': 0.001621, '370': 0.001621, '371': 0.001621, '372': 0.001621, '373': 0.001621, '374': 0.001621, '375': 0.001621, '376': 0.001621, '377': 0.001621, '378': 0.001621, '379': 0.001621, '380': 0.001621, '381': 0.001379, '382': 0.001379, '383': 0.001379, '384': 0.001379, '385': 0.001379, '386': 0.001379, '387': 0.001379, '388': 0.001379, '389': 0.001379, '390': 0.001379, '391': 0.001379, '392': 0.001379, '393': 0.001379, '394': 0.001379, '395': 0.001379, '396': 0.001379, '397': 0.001379, '398': 0.001379, '399': 0.001379, '400': 0.001379, '401': 0.001379, '402': 0.001379, '403': 0.001379, '404': 0.001379, '405': 0.001379, '406': 0.001379, '407': 0.001379, '408': 0.001379, '409': 0.001379, '410': 0.001379, '411': 0.001172, '412': 0.001172, '413': 0.001172, '414': 0.001172, '415': 0.001172, '416': 0.001172, '417': 0.001172, '418': 0.001172, '419': 0.001172, '420': 0.001172, '421': 0.001172, '422': 0.001172, '423': 0.001172, '424': 0.001172, '425': 0.001172, '426': 0.001172, '427': 0.001172, '428': 0.001172, '429': 0.001172, '430': 0.001172, '431': 0.001172, '432': 0.001172, '433': 0.001172, '434': 0.001172, '435': 0.001172, '436': 0.001172, '437': 0.001172, '438': 0.001172, '439': 0.001172, '440': 0.001172, '441': 0.000931, '442': 0.000931, '443': 0.000931, '444': 0.000931, '445': 0.000931, '446': 0.000931, '447': 0.000931, '448': 0.000931, '449': 0.000931, '450': 0.000931, '451': 0.000931, '452': 0.000931, '453': 0.000931, '454': 0.000931, '455': 0.000931, '456': 0.000931, '457': 0.000931, '458': 0.000931, '459': 0.000931, '460': 0.000931, '461': 0.000931, '462': 0.000931, '463': 0.000931, '464': 0.000931, '465': 0.000931, '466': 0.000931, '467': 0.000931, '468': 0.000931, '469': 0.000931, '470': 0.000931, '471': 0.00069, '472': 0.00069, '473': 0.00069, '474': 0.00069, '475': 0.00069, '476': 0.00069, '477': 0.00069, '478': 0.00069, '479': 0.00069, '480': 0.00069, '481': 0.00069, '482': 0.00069, '483': 0.00069, '484': 0.00069, '485': 0.00069, '486': 0.00069, '487': 0.00069, '488': 0.00069, '489': 0.00069, '490': 0.00069, '491': 0.00069, '492': 0.00069, '493': 0.00069, '494': 0.00069, '495': 0.00069, '496': 0.00069, '497': 0.00069, '498': 0.00069, '499': 0.00069, '500': 0.00069}\n",
            "1.033470000000003\n"
          ]
        }
      ]
    },
    {
      "cell_type": "code",
      "source": [
        "start_date = date(2021, 3, 23)\n",
        "end_date = date(2022, 3, 23)\n",
        "count = 0\n",
        "for single_date in daterange(start_date, end_date):\n",
        "  count += 1\n",
        "  #if single_date == start_date:\n",
        "      #print(single_date.strftime(\"%Y-%m-%d\"))\n",
        "      #print(single_date.day)\n",
        "      #fecha = single_date.isoformat()\n",
        "print(count)"
      ],
      "metadata": {
        "colab": {
          "base_uri": "https://localhost:8080/"
        },
        "id": "10mYbNp6hViq",
        "outputId": "ffc585c2-a2bb-4843-f572-00bf313a7f04"
      },
      "execution_count": null,
      "outputs": [
        {
          "output_type": "stream",
          "name": "stdout",
          "text": [
            "365\n"
          ]
        }
      ]
    },
    {
      "cell_type": "code",
      "source": [
        ""
      ],
      "metadata": {
        "id": "0uhRkeKeI5lA"
      },
      "execution_count": null,
      "outputs": []
    }
  ]
}